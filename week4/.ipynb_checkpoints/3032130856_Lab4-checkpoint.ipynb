{
 "cells": [
  {
   "cell_type": "markdown",
   "metadata": {},
   "source": [
    "# [Public Policy 275] Spatial Data and Analysis, Fall 2019\n",
    "\n",
    "# Lab 4: Lines, Polygons and Networks\n",
    "\n",
    "* University of California, Berkeley\n",
    "* Instructor: Solomon Hsiang\n",
    "* TA: Luna Yue Huang\n",
    "\n",
    "**About This Lab**\n",
    "* Due Date: Sep 25, 2019\n",
    "* You may talk with other students about the lab, but each student is responsible for doing all exercises in the lab themselves and turning in their own write up. We will be checking code for evidence of copying and pasting.\n",
    "* When you are done with the lab, please restart the kernel and run all the codes one more time (press the \">>\" button), so that the grader will see a clean notebook. Don't forget to save! Please submit this lab to bCourses as `YOURCAL1ID.ipynb`. This will facilitate anonymous grading.\n",
    "* The class just recently transitioned from Matlab to Python. This is a newly developed assignment, so if you think there is an error or something is unclear, let us know right away. That will be extremely helpful to us and your fellow students.\n",
    "* This lab requires that you download the following files and place them in the same directory as this jupyter notebook:\n",
    "    * `Lab4_hawaii.p`\n",
    "    * `Lab4_network.p`\n",
    "* These labs have been developed over the years by Solomon Hsiang, and past/current GSIs including Ian Bolliger, Tamma Carleton, Shubham Goel, Felipe González, Luna Yue Huang, Jonathan Kadish, and Jonathan Proctor (in alphabetical order)."
   ]
  },
  {
   "cell_type": "markdown",
   "metadata": {},
   "source": [
    "## Objectives\n",
    "By the end of this lab, you will be able to\n",
    "1. Use `shapely`\n",
    "2. Use `geopandas`"
   ]
  },
  {
   "cell_type": "markdown",
   "metadata": {},
   "source": [
    "## Installing Packages\n",
    "\n",
    "The two packages that we will use in this lab do not come with the anaconda distribution, so you have to install them with `pip install shapely`, and `conda install geopandas`. `shapely` is also on conda forge, but installing packages from multiple channels (the conda forge channel and the main channel) sometimes result in incompatibility issues, so I would recommend not doing that."
   ]
  },
  {
   "cell_type": "code",
   "execution_count": 1,
   "metadata": {},
   "outputs": [],
   "source": [
    "import pickle\n",
    "import numpy as np\n",
    "import pandas as pd\n",
    "import shapely\n",
    "from shapely.geometry import Point, MultiPoint, Polygon, MultiPolygon\n",
    "from shapely.affinity import scale\n",
    "import geopandas as gpd\n",
    "import matplotlib.pyplot as plt\n",
    "from scipy.spatial.distance import cdist\n",
    "%matplotlib inline"
   ]
  },
  {
   "cell_type": "markdown",
   "metadata": {},
   "source": [
    "## [lat, lon] or [lon, lat]?\n",
    "Usually we use x to denote the horizontal dimension and y the vertical dimension. However, in this lab, we will start working with Latitude and Longitude: lat is the vertical dimension and lon is the horizontal dimension, so when we write `[lat, lon]`, the order in which we write the horizontal and vertical dimensions has switched. This is no big deal, but we always have to be aware of which convention we are using. Most functions will expect you to write inputs using the x-y convention where the horizontal dimension is listed first and some will expect you to use the lat-lon convention with the vertical dimension is listed first. You cannot be too careful with this as errors here can potentially have large implications (e.g., it may result in mismatched data). In the following exercises, we will try to point out which commands don't use the x-y convention. When you are coding, you should always be aware of this - when in doubt, remember to always plot your maps and visually verify that it is correct. If your map looks strange, make sure to check that the arguments of your function are in the right order. When you are matching data and if you are worried about messing up the indexes, always try to use existing functions first and do not code things up by yourself unless it's necessary.\n",
    "\n",
    "Below, we're going to work mainly with data sets that contain lat-lon data, but we'll be using many commands that use the x-y convention. This means that you will often type `[lon, lat]` instead of `[lat, lon]`."
   ]
  },
  {
   "cell_type": "markdown",
   "metadata": {},
   "source": [
    "## 1. Plotting Polygons, Logically\n",
    "Let's start by constructing some `shapely` objects. As you can imagine, one of the most commonly used class is `shapely.geometry.Polygon`. In the following code block, I will be constructing two polygons, `triangle` and `rectangles`, using a lat-lon coordinate system."
   ]
  },
  {
   "cell_type": "code",
   "execution_count": null,
   "metadata": {},
   "outputs": [],
   "source": [
    "# to construct polygons in shapely\n",
    "# we feed the Polygon() function\n",
    "# a list of (lat, lon) coordinates\n",
    "# the important part is that the last point\n",
    "# should be the same as the first point\n",
    "# because otherwise the polygon is not closed\n",
    "triangle = Polygon([(1, 2), (8, 4), (5, 10), (1, 2)])\n",
    "# Polygons cannot contain multiple polygons\n",
    "# for that we have the class MultiPolygon\n",
    "# but a polygon can have holes, and lots of them\n",
    "rectangles = Polygon(\n",
    "    # these are the exterior coordinates\n",
    "    [(2.5, 7), (9, 7), (9, 12), (2.5, 12), (2.5, 7)],\n",
    "    # these are the interior coordinates (the holes)\n",
    "    [[(3, 8), (4, 8), (4, 9), (3, 9), (3, 8)],\n",
    "     [(7, 10), (8, 10), (8, 11), (7, 11), (7, 10)]])"
   ]
  },
  {
   "cell_type": "code",
   "execution_count": null,
   "metadata": {},
   "outputs": [],
   "source": [
    "# shapely is nicely integrated with Jupyter Notebook\n",
    "# so this will quickly plot the polygon\n",
    "triangle"
   ]
  },
  {
   "cell_type": "code",
   "execution_count": null,
   "metadata": {},
   "outputs": [],
   "source": [
    "rectangles"
   ]
  },
  {
   "cell_type": "markdown",
   "metadata": {},
   "source": [
    "**1.1. Following the steps below, produce a single figure.** Plotting with `matplotlib` is not always the easiest solution when you try to plot shapefiles, and this will become more obvious when we start talking about `geopandas`, but this exercise hopefully offers a nice view into the mechanics of plotting polygons in Python.\n",
    "\n",
    "* Plot the triangle polygon as a black dotted line. Be careful because `plt.plot()` assumes an x-y coordinate system (see above). You will notice that the plots above are transposed as shapely defaults to the x-y coordinate system as well.\n",
    "* On the same figure, plot the rectangle as solid red lines.\n",
    "* To interact with `plt.plot()` you will likely need to look up `shapely.geometry.Polygon.exterior.xy` in order to plot the exterior boundaries. Figure out how to plot the interior boundaries. Hint: there are multiple interior boundaries. Another hint: `dir()` (returns all the attributes and methods defined on a class) and `type()` (returns the class of the object) and `len()` (returns the length of the object, however that is defined) are the most useful functions for figuring out how to interact with certain objects in Python.\n",
    "* Label the triangle \"Triangle\" using the command `plt.text()`. This command allows you to place text anywhere you want on the figure. Put the label somewhere sensible and visually unobstructed. Label the rectangle \"Rectangle\".\n",
    "* Create a \"buffer\" around the triangle that is 1 degree wide. This buffer is also a polygon which simply describes the set of points that are exactly 1 degree away from the edge of the triangle at the nearest point in the triangle. Writing code to find this buffer polygon is difficult, but luckily shapely has a built-in method `buffer` that will do it for you. Plot the buffer around the triangle with black solid line."
   ]
  },
  {
   "cell_type": "code",
   "execution_count": null,
   "metadata": {},
   "outputs": [],
   "source": [
    "# TODO: WRITE YOUR CODES HERE"
   ]
  },
  {
   "cell_type": "markdown",
   "metadata": {},
   "source": [
    "**1.2.**\n",
    "\n",
    "In a new figure with two subplots, plot the union of the triangle and rectangles (in one subplot) and the intersection of the triangle and rectangles (in the other subplot). Make sure they are labeled or titled so that it is clear which is which."
   ]
  },
  {
   "cell_type": "code",
   "execution_count": null,
   "metadata": {},
   "outputs": [],
   "source": [
    "# TODO: WRITE YOUR CODES HERE"
   ]
  },
  {
   "cell_type": "markdown",
   "metadata": {},
   "source": [
    "## 2. Baywatch Hawaii\n",
    "\n",
    "As a coast-guard planner for the state of Hawaii, you are asked to evaluate whether (and if so, where) your team should construct additional fast-response rescue heliports. Currently, there is a single fast-response heliport in Oahu (the capital city) and it would be great if the state could rely on only that station because it's expensive to build additional ports. However, your team’s mandate is to make sure that surfers and recreational fishing boats (which may be as far as 20km off any coast) can be reached by a fast response helicopter. These helicopters can fly a distance of 600 km, but they need to get back to their starting point so their effective rescue range is only 300 km. Your task is to determine if there are any vulnerable regions of coastline (out to 20 km) that cannot be reached by the current heliport in Oahu – and if so, where a should additional heliports be built?"
   ]
  },
  {
   "cell_type": "markdown",
   "metadata": {},
   "source": [
    "**2.1.**\n",
    "\n",
    "The data you need are in the file `Lab4_hawaii.p`. This file contains some polygons for the state of Hawaii. There are multiple polygons because the islands making up the Hawaiian archipelago are not contiguous. The file also contains data on the location of Oahu. Because the boundaries are complex in structure, the file uses many points to describe the structure of the islands, making maps accurate but making the data difficult to examine by eye. **Begin by examining the data. How many separate polygons are there?**\n",
    "\n",
    "Hint: The polygons are of the class `shapely.geometry.MultiPolygon`. For many objects you can use the generic functions to learn about their properties: `dir()`, `len()` (for length), and `type()`."
   ]
  },
  {
   "cell_type": "code",
   "execution_count": null,
   "metadata": {},
   "outputs": [],
   "source": [
    "# TODO: WRITE YOUR CODES HERE"
   ]
  },
  {
   "cell_type": "markdown",
   "metadata": {},
   "source": [
    "**2.2.**\n",
    "\n",
    "**Calculate the approximate number of degrees of longitude that would equal the flight range of a helicopter leaving Oahu** (Hint: this doesn't require Python, but if you use Python you may need the function `numpy.cos()`.). Also **calculate the number of degrees of longitude that would equal 20 km**, the off-coast distance that your helicopter team must monitor."
   ]
  },
  {
   "cell_type": "code",
   "execution_count": null,
   "metadata": {},
   "outputs": [],
   "source": [
    "# TODO: ANSWER THE QUESTION HERE"
   ]
  },
  {
   "cell_type": "markdown",
   "metadata": {},
   "source": [
    "**2.3.**\n",
    "\n",
    "**2.3.1.**\n",
    "\n",
    "Plot the boundaries of the islands the same way that you plotted the rectangles in the first problem (hint: these islands don't have holes). Use a new color that we haven't used in any of the previous exercises. Then, mark Oahu with a different new color.\n",
    "\n",
    "**How to use RGB color vectors**: Rather than specify colors using strings (e.g. 'b' for blue) use a three element vector that describes the amount of red, green and blue (RGB) that you want to 'mix together' (imagine you are a painter) to make the color you want. This color vector must have three elements and each must be between zero and one (inclusive). The first entry describes how much red you want, the second describes how much green, and the last describes how much blue. For example, if you were to type `plt.plot(x, y, c=(1, 0, 0))` then you would get a plot with a red line (the parameter `c` tells Python that you want to alter the color option for the line and that the next vector you list will be a RGB vector). If you were to type `plt.plot(x, y, c=(0, 1, 0))` you would get a green line and if you type `plt.plot(x, y, c=(.5, .6, 0))` you would get something in between red and green, with slightly more green than red. Under this RGB system, if the three elements are the same value, then Python plots a shade of grey, with `(0, 0, 0)` equal to black and `(1, 1, 1)` equal to white.\n",
    "\n",
    "A good graph starts with a carefully selected palette. From now on, we will not be telling you what color to use for which graph, select the ones that make you the happiest! One important thing to keep in mind is that you would want your color palette to be color blind safe. The [ColorBrewer](http://colorbrewer2.org) website provides some useful resources for this.\n",
    "\n",
    "**2.3.2.**\n",
    "\n",
    "Make a new polygon that shows the limit of a helicopter's range if it were to leave from the heliport in Oahu. **Plot this polygon on your map of Hawaii.** Be thoughtful in your color selection.\n",
    "\n",
    "Some tips:\n",
    "\n",
    "* `shapely` records all geometric shapes as polygons, so we cannot actually create perfect circles. This is fine though. A quick way to create a circle in `shapely` is to create a `buffer` around a `Point`.\n",
    "* Thinking about it more, do we really want to create a circle? 1 km is does not represent the same number of degrees in longitude and latitude. So we want an ellipse. This can be achieved by transforming the circle (by using `shapely.affinity.scale`).\n",
    "\n",
    "**2.3.3.**\n",
    "\n",
    "Compute the boundary of the region that your helicopter team must cover (all ocean within 20 km of the coastline). Because the coastline of the islands are complex, this calculation may take a little bit of time for Python to compute (in Jupyter Notebook you will see `In  [*]:`, with the star meaning that Python is working on this). Plot this boundary.\n",
    "\n",
    "Because it takes a bit of time to run this calculation, once Python finishes, you should save the output so that you don't have to run this again. Save this as `Lab4_hawaii_buffer.p` with `pickle`. Hint: this is similar to what you would do when reading data except that (1) the 'rb' argument in `open()` should be changed to 'wb' and (2) we will use `pickle.dump()` instead of `pickle.load()`.\n",
    "\n",
    "**2.3.4.**\n",
    "\n",
    "Will the single helipad in Oahu be able to provide coverage for all of the coastal waters ($\\le$ 20 km) around Hawaii? If not, isolate regions of coastal waters that do not have coverage (Hint: you will want to use the `shapely.geometry.Polygon.difference()` method). Use the function `plt.fill()` to plot these regions as filled-in polygons on your map (using a thoughtful color). Make sure your map (containing all the objects so far) looks nice and is well labeled because it is the figure you will use to make your case to the state government on whether or not the state needs to construct a new heliport."
   ]
  },
  {
   "cell_type": "code",
   "execution_count": null,
   "metadata": {},
   "outputs": [],
   "source": [
    "# TODO: WRITE YOUR CODES HERE"
   ]
  },
  {
   "cell_type": "markdown",
   "metadata": {},
   "source": [
    "**2.4.**\n",
    "\n",
    "If you think that one or more heliports are required to ensure that all the coastal waters can be reached by a fast-response helicopter, propose locations where you think new heliports should be constructed to ensure complete coverage. (Hint: this does not have to be optimized. `plt.grid()` may help you in determining the coordinates of the desired site.) Construct a new well-labeled map with the coverage regions for Oahu and your proposed heliport locations overlaid to convince decision-makers that complete coverage of coastal waters can be achieved under your proposed plan. If you think it is an effective display, you could plot the union of multiple heliport coverage regions to show the total covered area."
   ]
  },
  {
   "cell_type": "code",
   "execution_count": null,
   "metadata": {},
   "outputs": [],
   "source": [
    "# TODO: WRITE YOUR CODES HERE"
   ]
  },
  {
   "cell_type": "markdown",
   "metadata": {},
   "source": [
    "**2.5.**\n",
    "\n",
    "Your plan to build more heliports costs money for the state (the fixed cost of construction), but it could reduce spending on helicopter fuel (a marginal cost of rescue operations) and other operational costs since many helicopter trips can be made shorter if a helicopter is dispatched out of a new site rather than from Oahu (in cases where the new site is closer). Help decision-makers see this point by running a simple simulation of annual rescue operations under two scenarios: (A) helicopters only use the Oahu heliport and (B) helicopters use the Oahu heliport and new heliports in the locations you proposed.\n",
    "\n",
    "**2.5.1.**\n",
    "\n",
    "Begin by simulating a large number of emergency events (roughly 100) that occur within the 20 km coastal waters as a Poisson point process (PPP). To do this, simulate a PPP the same way that you did in the last lab over a region that spans the area around Hawaii. Except, unlike last time, we will delete events that occur outside of the 20 km coastal zone. If the PPP generates an event that occurs outside of the coastal zone, we will not store the event. To do this, you will need to create a vector of roughly 1000 uniformly random locations for events that span latitudes from 18.5 to 22.5 degrees and longitudes from −161 to −154 degrees. You can do this with the following cells.\n",
    "\n",
    "**In order to run the following cells, you need to have created a shapely MultiPolygon `coastal` that represents the coastal areas (the buffer areas surrounding but not including Hawaii). You don't have to write additional codes to complete this question, but read the codes carefully and make sure you understand them.**"
   ]
  },
  {
   "cell_type": "code",
   "execution_count": null,
   "metadata": {},
   "outputs": [],
   "source": [
    "# this line of code checks if there is an instance of MultiPolygon named coastal\n",
    "# if there isn't, it does not let you proceed\n",
    "# it is common to write this sort of input checking codes to catch errors early on\n",
    "assert isinstance(coastal, MultiPolygon), ('the variable coastal is not found '\n",
    "                                           'or not a shapely MultiPolygon')"
   ]
  },
  {
   "cell_type": "code",
   "execution_count": null,
   "metadata": {},
   "outputs": [],
   "source": [
    "N = 1000\n",
    "lon = np.random.random(N) * 7 - 161\n",
    "lat = np.random.random(N) * 4 + 18.5\n",
    "# this reorganizes the points such that the input format\n",
    "# is consistent with what MultiPoint() expects\n",
    "emergency_events = MultiPoint(np.vstack((lat, lon)).T)"
   ]
  },
  {
   "cell_type": "code",
   "execution_count": null,
   "metadata": {},
   "outputs": [],
   "source": [
    "# plot the map\n",
    "for point in emergency_events:\n",
    "    lat, lon = point.x, point.y\n",
    "    plt.plot(lon, lat, c=(.3, .3, .3), marker='x')\n",
    "plt.plot([], [], c=(.3, .3, .3), label='Emergency Events')\n",
    "for poly in coastal:\n",
    "    lat, lon = poly.exterior.xy\n",
    "    plt.plot(lon, lat, c=(1, .71, .75))\n",
    "    for interior in poly.interiors:\n",
    "        lat, lon = interior.xy\n",
    "        plt.plot(lon, lat, c=(1, .71, .75))\n",
    "plt.plot([], [], c=(1, .71, .75), label='Coastal Area')\n",
    "plt.legend()\n",
    "plt.xlabel('Longitude')\n",
    "plt.ylabel('Latitude')\n",
    "plt.title('Unconditional Poisson Point Process')\n",
    "plt.show()"
   ]
  },
  {
   "cell_type": "markdown",
   "metadata": {},
   "source": [
    "Then you need to keep only the points inside the coastal regions."
   ]
  },
  {
   "cell_type": "code",
   "execution_count": null,
   "metadata": {},
   "outputs": [],
   "source": [
    "emergency_events = emergency_events.intersection(coastal)\n",
    "print('Number of Points Remaining: {:d}'.format(len(emergency_events)))"
   ]
  },
  {
   "cell_type": "code",
   "execution_count": null,
   "metadata": {},
   "outputs": [],
   "source": [
    "# plot the map\n",
    "for point in emergency_events:\n",
    "    lat, lon = point.x, point.y\n",
    "    plt.plot(lon, lat, c=(.3, .3, .3), marker='x')\n",
    "plt.plot([], [], c=(.3, .3, .3), label='Emergency Events')\n",
    "for poly in coastal:\n",
    "    lat, lon = poly.exterior.xy\n",
    "    plt.plot(lon, lat, c=(1, .71, .75))\n",
    "    for interior in poly.interiors:\n",
    "        lat, lon = interior.xy\n",
    "        plt.plot(lon, lat, c=(1, .71, .75))\n",
    "plt.plot([], [], c=(1, .71, .75), label='Coastal Area')\n",
    "plt.legend()\n",
    "plt.xlabel('Longitude')\n",
    "plt.ylabel('Latitude')\n",
    "plt.title('Retaining Only Points in the Coastal Zone')\n",
    "plt.show()"
   ]
  },
  {
   "cell_type": "markdown",
   "metadata": {},
   "source": [
    "These are the simulated emergency events that your helicopters will need to respond to. Keep the set of emergencies that you use fixed for both scenarios (A) and (B) so that you can be sure that all changes in your results are caused by your policy proposal and not the data changing."
   ]
  },
  {
   "cell_type": "markdown",
   "metadata": {},
   "source": [
    "**2.5.2.**\n",
    "\n",
    "Plot a two subplot figure displaying the path of your helicopters under scenarios (A) and (B) described above (one scenario for each subplot). For each scenario and for each emergency event, find the closest heliport and assume that the rescuing helicopter is dispatched from that heliport (since it makes sense to dispatch a helicopter from the nearest heliport). In scenario (A), there is only one heliport that can be used. After a helicopter flies to an emergency site, it flies back to its original heliport. To visualize the distances that each helicopter flies, plot a line from each emergency site to the nearest heliport (under each scenario).\n",
    "\n",
    "**Remember the function that we wrote a while ago to compute pairwise distances between points? As you can imagine, there is already an implementation of that in the standard packages (`scipy.spatial.distance.cdist`). We will be using that from now on. Chances are that these functions will be more versatile and faster than the functions we've written.**\n",
    "\n",
    "**Hint: Introducing `zip()` and `enumerate()` in Python**\n",
    "\n",
    "Like list comprehension, `zip()` and `enumerate()` are considered to be crucial to a Pythonic coding style. `zip()` lets you loop over several lists (of the same length) at the same time, and `enumerate()` lets you loop over an iterable (e.g., a list) while counting. Observe the following code blocks."
   ]
  },
  {
   "cell_type": "code",
   "execution_count": null,
   "metadata": {},
   "outputs": [],
   "source": [
    "# in Python, you can directly loop over iterables\n",
    "# (e.g., lists, numpy.ndarrays)\n",
    "for i in [5, 6, 7]:\n",
    "    print(i)"
   ]
  },
  {
   "cell_type": "code",
   "execution_count": null,
   "metadata": {},
   "outputs": [],
   "source": [
    "# sometimes you want to loop over an iterable\n",
    "# but you want to count at the same time\n",
    "for i, s in enumerate(['a', 'b']):\n",
    "    print(i)\n",
    "    print(s)"
   ]
  },
  {
   "cell_type": "code",
   "execution_count": null,
   "metadata": {},
   "outputs": [],
   "source": [
    "# sometimes you want to loop over several iterables\n",
    "# at the same time\n",
    "for x, y in zip(['x0', 'x1'], ['y0', 'y1']):\n",
    "    print(x)\n",
    "    print(y)"
   ]
  },
  {
   "cell_type": "code",
   "execution_count": null,
   "metadata": {},
   "outputs": [],
   "source": [
    "# TODO: WRITE YOUR CODES HERE"
   ]
  },
  {
   "cell_type": "markdown",
   "metadata": {},
   "source": [
    "**2.5.3.**\n",
    "\n",
    "Create a two subplot figure illustrating the distribution of distances (using either histogram or density plots) flown by all rescuing helicopters under the two scenarios (one for each subplot). Be sure to consider the return trip part of the distance flown by a helicopter. **What is the average trip distance for each scenario?**\n",
    "\n",
    "To simplify the calculation, you can convert degrees to kilometers by multiplying 111 km/degree. Given that we are not in a high-latitude region, this is reasonable, but bear in mind that this is just **a very rough approximation**."
   ]
  },
  {
   "cell_type": "code",
   "execution_count": null,
   "metadata": {},
   "outputs": [],
   "source": [
    "# TODO: WRITE YOUR CODES HERE"
   ]
  },
  {
   "cell_type": "markdown",
   "metadata": {},
   "source": [
    "**2.5.4.**\n",
    "\n",
    "Assuming it costs \\\\$30 per 1 km of helicopter travel and \\\\$37,000 for each emergency that does not get rescued (since in scenario A there is not complete coverage - this is the average cost of losing the boat and additional hospital care), **what is the total cost of operating the rescue system under the two scenarios for your full sample of simulated emergencies (which occurred over a year)? In addition to providing full coverage of Hawaii's coastal waters, how much money did your proposal save?**"
   ]
  },
  {
   "cell_type": "code",
   "execution_count": null,
   "metadata": {},
   "outputs": [],
   "source": [
    "# TODO: WRITE YOUR CODES HERE"
   ]
  },
  {
   "cell_type": "markdown",
   "metadata": {},
   "source": [
    "## 3. Obtaining and Plotting New Data\n",
    "\n",
    "In this short exercise, we'll obtain new map data from the internet and you'll import it to Python so it can be displayed.\n",
    "\n",
    "**3.1.**\n",
    "\n",
    "Download the shapefile describing the administrative boundaries for a single country from [here](http://www.diva-gis.org/Data). Pick any country you want under the \"Country Level\" data page. The shapefile is actually not a single file, but a collection of files that will all be downloaded in a zip file. For now, just focus on boundaries at the lowest administrative level i.e. national boundaries (in the zip file, these are denoted \"adm0\" which stands for \"administrative level 0\"). This site also has many subnational boundary files that are free to use and may useful to you in your future work, although we won't use any right now. Unzip the folder that you download into your working directory. You will see several files types (e.g. `.prj` or `.sbx`), don't delete any of them but you only need to interact with the `.shp` file since this is the main shapefile."
   ]
  },
  {
   "cell_type": "markdown",
   "metadata": {},
   "source": [
    "**3.2.**\n",
    "\n",
    "Import the shapefile data to Python with `geopandas.read_file()`. Call your data `df`."
   ]
  },
  {
   "cell_type": "code",
   "execution_count": null,
   "metadata": {},
   "outputs": [],
   "source": [
    "# TODO: WRITE YOUR CODES HERE"
   ]
  },
  {
   "cell_type": "code",
   "execution_count": null,
   "metadata": {
    "scrolled": true
   },
   "outputs": [],
   "source": [
    "# show the data frame\n",
    "df"
   ]
  },
  {
   "cell_type": "markdown",
   "metadata": {},
   "source": [
    "We are now entering `geopandas` territory. The `geopandas` package is built upon the insight that a shapefile is essentially a data frame. A shapefile typically consists of a collection of multipolygons, and each multipolygon has a number of attributes associated with them. For example, we could have a number of states in the US, and for each state, we want to record their population, average GDP, etc.\n",
    "\n",
    "A `geopandas.GeoDataFrame` thus builds on the `pandas.DataFrame` class, and it inherits almost all of the functionality implemented for `pandas.DataFrame`s (aka you can treat it like a pandas DataFrame). The only difference is that there is a new special column in each GeoDataFrame named `'geometry'` (view it with `df.geometry` or `df['geometry']`!). Each geometry is a shapely MultiPolygon object, so this package builds on shapely, too."
   ]
  },
  {
   "cell_type": "markdown",
   "metadata": {},
   "source": [
    "**3.3.**\n",
    "\n",
    "Create a new figure and plot the border (\"adm0\") of your selected country. Make it pretty. Consider using the following commands: `df.plot()`."
   ]
  },
  {
   "cell_type": "code",
   "execution_count": null,
   "metadata": {},
   "outputs": [],
   "source": [
    "# TODO: WRITE YOUR CODES HERE"
   ]
  },
  {
   "cell_type": "markdown",
   "metadata": {},
   "source": [
    "You will likely notice that the codes for the second problem in this lab are tedious and hard to read (with lots of repetitions). Whereas in this problem they are extremely short, tidy and readable. In the second problem, in order to plot a collection of polygons, we have to first extract the coordinates of these polygons. We then have to loop through the exterior of each polygon, as well as the interiors of these polygons (wasn't that painful?). We then call a function to plot the lines or fill the polygon with a certain color. We also need to be super careful so as not to mess up the dimensions (lat-lon versus x-y).\n",
    "\n",
    "Here, we just call `df.plot()` and `geopandas` does all the work for us. This illustrates nicely that Python and many of its modules are designed to be \"high-level\", i.e., close to human language. The downside of this is that sometimes it is hard for the users to figure out what exactly is being done by these methods and it can sometimes be challenging to generate highly customized results. We designed problem 2 so that you will see the mechanics of plotting polygons and have a better understanding of the data structure, but from now on, we will be using `geopandas` to handle most of our shapefiles. We are introducing just a small fraction of all the `geopandas` functionality and you will discover much more of it in the future."
   ]
  },
  {
   "cell_type": "markdown",
   "metadata": {},
   "source": [
    "## 4. NSA\n",
    "Load the dataset `Lab4_network.p`. This data describes a social network of 35 friends based on their location and their friendships, which you (a National Security Agency analyst) have been monitoring through their telephone conversations.\n",
    "\n",
    "**4.1.**\n",
    "\n",
    "**Plot the location of each individual as a node.** Make the colors of the nodes reflect the age of the individual somehow (e.g. you can use a single cutoff and make the nodes two colors, you could use multiple cutoffs and more colors, or you can make the color vary smoothly with age using RGB vectors that are a function of age). `L` is the connectivity matrix of friendships (the indices are the same as for the location vectors). **If two individuals are friends, add a line between them in your figure.**"
   ]
  },
  {
   "cell_type": "code",
   "execution_count": null,
   "metadata": {},
   "outputs": [],
   "source": [
    "# TODO: WRITE YOUR CODES HERE"
   ]
  },
  {
   "cell_type": "markdown",
   "metadata": {},
   "source": [
    "**4.2.**\n",
    "\n",
    "Suppose individual number 4 (i = 4, this will be the fifth observation since we started counting from 0) begins to act suspiciously and you think you had better investigate all of individual 4's friends. Which individuals do you investigate? Make a second plot that only shows individuals that are linked to to individual 4. If two individuals are friends, add a line between them in your figure. Label each node with his/her index number on the figure (hint: use `plt.text()`). Also be sure to label or mark individual 4 uniquely."
   ]
  },
  {
   "cell_type": "code",
   "execution_count": null,
   "metadata": {},
   "outputs": [],
   "source": [
    "# TODO: WRITE YOUR CODES HERE"
   ]
  },
  {
   "cell_type": "markdown",
   "metadata": {},
   "source": [
    "## Congratulations!\n",
    "You've finished this lab!\n",
    "\n",
    "* **Please list everyone you worked on this assignment with outside of public Piazza discussions.**"
   ]
  }
 ],
 "metadata": {
  "kernelspec": {
   "display_name": "Python 3",
   "language": "python",
   "name": "python3"
  },
  "language_info": {
   "codemirror_mode": {
    "name": "ipython",
    "version": 3
   },
   "file_extension": ".py",
   "mimetype": "text/x-python",
   "name": "python",
   "nbconvert_exporter": "python",
   "pygments_lexer": "ipython3",
   "version": "3.7.1"
  }
 },
 "nbformat": 4,
 "nbformat_minor": 2
}
