{
 "cells": [
  {
   "cell_type": "markdown",
   "metadata": {},
   "source": [
    "## Spatial Data and Analysis: Section 3\n",
    "\n",
    "_Luna Yue Huang_\n",
    "\n",
    "_September 20, 2019_"
   ]
  },
  {
   "cell_type": "markdown",
   "metadata": {},
   "source": [
    "### Change to Section Structures\n",
    "\n",
    "* Sol and I have been talking about how Lab 3 has been particularly challenging for some people, and that in lectures, many students said that some in-section exercises would be helpful, and that reading codes on slides are harder than seeing them run. In this section I want to try something different and maybe try not to cram too much materials into the section but take more time to go over more fundamental concepts and tasks with you together. We are also going to do some exercises together and I'm happy to help provide debugging support.\n",
    "* While it is normal to feel that reading codes and 'mentally executing' them is difficult, I still want to highlight that it is a very important skill and one that we are trying to teach in this class. In practice it is very likely that you would spend more time reading codes than writing your own - you might want to adapt other people's codes for a similar task, or you might read the source codes of something to figure out what they were doing. Midterms have always tested students on their ability to read codes and form expectations about outputs and intentions, or choose the right command to achieve a certain task.\n",
    "* That said, this section will be more focused on writing codes."
   ]
  },
  {
   "cell_type": "code",
   "execution_count": null,
   "metadata": {},
   "outputs": [],
   "source": [
    "import pickle\n",
    "import numpy as np\n",
    "import pandas as pd\n",
    "import matplotlib.pyplot as plt\n",
    "%matplotlib inline"
   ]
  },
  {
   "cell_type": "markdown",
   "metadata": {},
   "source": [
    "### Lab 3 Questions"
   ]
  },
  {
   "cell_type": "code",
   "execution_count": null,
   "metadata": {},
   "outputs": [],
   "source": [
    "df = pd.read_csv('Lab3_crime.csv')"
   ]
  },
  {
   "cell_type": "code",
   "execution_count": null,
   "metadata": {},
   "outputs": [],
   "source": [
    "# 1.2\n",
    "plt.plot(df.loc[df['violent'] == 1, 'crime_x'],\n",
    "         df.loc[df['violent'] == 1, 'crime_y'], 'rx')\n",
    "plt.plot(df.loc[df['violent'] == 0, 'crime_x'],\n",
    "         df.loc[df['violent'] == 0, 'crime_y'], 'bx')\n",
    "plt.xlabel('x-coordinate')\n",
    "plt.ylabel('y-coordinate')\n",
    "plt.title('Crime Locations: Violent vs. Non-violent')\n",
    "plt.legend(['violent', 'non-violent'])\n",
    "plt.show()"
   ]
  },
  {
   "cell_type": "code",
   "execution_count": null,
   "metadata": {},
   "outputs": [],
   "source": [
    "# 1.3\n",
    "fig, axes = plt.subplots(nrows=3, ncols=4,\n",
    "                         sharex=True, sharey=True)\n",
    "month = 1\n",
    "for i in range(3):\n",
    "    for j in range(4):\n",
    "        axes[i, j].plot(df.loc[df['month'] == month, 'crime_x'],\n",
    "                        df.loc[df['month'] == month, 'crime_y'], 'b+')\n",
    "        axes[i, j].set_title('Month: {:d}'.format(month))\n",
    "        month = month + 1\n",
    "fig.tight_layout()  # this improves the aesthetics\n",
    "plt.show()"
   ]
  },
  {
   "cell_type": "code",
   "execution_count": null,
   "metadata": {},
   "outputs": [],
   "source": [
    "# 1.4\n",
    "print('Number of crimes in March: {}'\n",
    "      .format(df.loc[df['month'] == 3, :].shape[0]))\n",
    "print('Number of violent crimes in March: {}'\n",
    "      .format(df.loc[(df['violent'] == 1) & (df['month'] == 3), :].shape[0]))"
   ]
  },
  {
   "cell_type": "markdown",
   "metadata": {},
   "source": [
    "### Pseudo Code for 1.5.\n",
    "\n",
    "To plot a histogram showing the distribution of the distance between each crime to the nearest violent crime. Assume that there are $I$ crimes, among which $J$ are violent.\n",
    "\n",
    "* From the data frame, select (1) two arrays of size $(I,)$ with x/y coord for all the crimes and (2) two arrays of size $(J,)$ with x/y coord for all violent crimes.\n",
    "* Calculate the distance matrix between every crime and every violent crime, which is an array of size $(I, J)$.\n",
    "* Obtain an array with size $(I,)$ indicating the distance between each crime to the nearest violent crime, by taking the minimum distance for each crime.\n",
    "* Plot the histogram (with $I$ observations)."
   ]
  },
  {
   "cell_type": "code",
   "execution_count": null,
   "metadata": {},
   "outputs": [],
   "source": [
    "# 1.5\n",
    "def compute_distances(src_x, src_y, dst_x, dst_y):\n",
    "    \"\"\"Computes the distances from every source point to every destination point.\n",
    "    \n",
    "    Args:\n",
    "        src_x, src_y (numpy.ndarray): the x and y coordinates for source points.\n",
    "            Denote the length of each array as dim_src.\n",
    "        dst_x, dst_y (numpy.ndarray): the x and y coordinates for destination points.\n",
    "            Denote the length of each array as dim_dst.\n",
    "        \n",
    "    Returns:\n",
    "        numpy.ndarray: a dim_src by dim_dst numpy array containing the distances.\n",
    "    \"\"\"\n",
    "    dist = np.zeros((src_x.shape[0], dst_x.shape[0]))\n",
    "    for i in range(src_x.shape[0]):\n",
    "        for j in range(dst_x.shape[0]):\n",
    "            dist[i, j] = np.sqrt((src_x[i] - dst_x[j]) ** 2\n",
    "                                 + (src_y[i] - dst_y[j]) ** 2)\n",
    "    return dist\n",
    "\n",
    "dist = compute_distances(\n",
    "    src_x=df.loc[:, 'crime_x'].values,\n",
    "    src_y=df.loc[:, 'crime_y'].values,\n",
    "    dst_x=df.loc[df['violent'] == 1, 'crime_x'].values,\n",
    "    dst_y=df.loc[df['violent'] == 1, 'crime_y'].values)\n",
    "dist = dist.min(axis=1)\n",
    "plt.hist(dist, bins=30)\n",
    "plt.xlabel('Distance to Closest Violent Crime')\n",
    "plt.ylabel('Frequency')\n",
    "plt.title('Distribution of Distances from Each Crime to Closest Violent Crime')\n",
    "plt.show()"
   ]
  },
  {
   "cell_type": "markdown",
   "metadata": {},
   "source": [
    "### Pseudo Code for 2.1.\n",
    "$$\\hat{\\lambda}(\\overrightarrow{\\underset{\\cdot}{s}}) =\\frac{1}{\\pi h^{2}} \\times \\sum_{j=1}^{N} \\mathbf{1}\\left[ dist(\\overrightarrow{\\underset{\\cdot}{s}}, \\overrightarrow{\\underset{\\cdot}{s_{inf\\_site\\; j}}})< h \\right]$$\n",
    "\n",
    "Calculate $\\lambda$ for each point on the grid.\n",
    "\n",
    "* Construct a grid with $X \\times Y$ points\n",
    "* for point in points:\n",
    "    * calculate the distance between each point and all the cholera events\n",
    "    * count how many events are within the bandwidth $h$\n",
    "    * calculate $\\lambda$ according to the formula\n",
    "    * plot this point"
   ]
  },
  {
   "cell_type": "code",
   "execution_count": null,
   "metadata": {},
   "outputs": [],
   "source": [
    "# 2.1\n",
    "# load the dataset\n",
    "with open('Lab3_cholera.p', 'rb') as f:\n",
    "    d = pickle.load(f)\n",
    "cholera_x = d['cholera_x']\n",
    "cholera_y = d['cholera_y']\n",
    "# construct lattice points\n",
    "x, y = np.meshgrid(range(1, 11), range(-10, 11))\n",
    "x, y = x.flatten(), y.flatten()\n",
    "# call function to compute distance matrices\n",
    "dist = compute_distances(\n",
    "    src_x=x, src_y=y,\n",
    "    dst_x=cholera_x, dst_y=cholera_y)\n",
    "# define bandwidth\n",
    "h = 2\n",
    "lambdas = (dist < h).sum(axis=1) / (np.pi * (h ** 2))\n",
    "plt.plot(cholera_x, cholera_y, 'bx', label='Actual Infection Site')\n",
    "plt.scatter(x, y, s=10*lambdas, c='r', label='Estimated Infection Rate')\n",
    "plt.xlabel('x-coordinate')\n",
    "plt.ylabel('y-coordinate')\n",
    "plt.legend()\n",
    "plt.title('Estimated and Actual Cholera Infection Rates (h={})'.format(h))\n",
    "plt.show()"
   ]
  },
  {
   "cell_type": "markdown",
   "metadata": {},
   "source": [
    "## 20-min Exercise (Similar to a Question in Lab 4)\n",
    "\n",
    "In the above graph, add lines between every point on the grid with non-zero infection rates to the infection site that is the closest to it. Hint: you can use the `numpy.ndarray.argmin()` function."
   ]
  },
  {
   "cell_type": "code",
   "execution_count": null,
   "metadata": {},
   "outputs": [],
   "source": [
    "# TODO: WRITE YOUR CODES HERE"
   ]
  },
  {
   "cell_type": "markdown",
   "metadata": {},
   "source": [
    "### Question 3.3.\n",
    "\n",
    "$$\\hat{K}(h) = \\frac{1}{z\\lambda}(\\sum_{i=1}^z \\sum_{j \\neq i} \\mathbf{1}\\{D(\\overrightarrow{\\underset{\\cdot}{s_i}}, \\overrightarrow{\\underset{\\cdot}{s_j}}) < h\\})$$"
   ]
  },
  {
   "cell_type": "code",
   "execution_count": null,
   "metadata": {},
   "outputs": [],
   "source": [
    "# 3.3\n",
    "def K(h, new=True, z=None, x=None, y=None):\n",
    "    \"\"\"Calculates the K function for different bandwidths.\n",
    "    \n",
    "    Args:\n",
    "        h (numpy.ndarray): an array of bandwidths.\n",
    "        new (bool): whether a new simulation should be carried out.\n",
    "            if False, x, y, z arguments need to be supplied.\n",
    "        x, y (numpy.ndarray): arrays containing x, y coordinates of the events.\n",
    "        z (int): number of events in a realization of the simulation\n",
    "    \n",
    "    Returns:\n",
    "        numpy.ndarray: a array of K(h), of the same length as h.\n",
    "    \"\"\"\n",
    "    # these bool inputs (flags) control the behavior of the function\n",
    "    # allowing you to write functions that, for example,\n",
    "    # take different kinds of input\n",
    "    if new:\n",
    "        z = np.random.poisson(lam=120)\n",
    "        x = np.random.random(z) * 10\n",
    "        y = np.random.random(z) * 10\n",
    "    # compute the distance matrix between every observation\n",
    "    dist = compute_distances(\n",
    "        src_x=x, src_y=y,\n",
    "        dst_x=x, dst_y=y)\n",
    "    # this loops over all the h's\n",
    "    # and for every h calculates the overall sum of the indicator function\n",
    "    # minus z (the distance from an observation to itself)\n",
    "    # appropriately scaled\n",
    "    K = np.array([((dist < h_i).sum() - z) / (z * 1.2) for h_i in h])\n",
    "    return K\n",
    "\n",
    "h = np.array(range(1, 8))\n",
    "plt.plot(h, np.pi * (h ** 2), '-')\n",
    "plt.plot(h, K(h), '-')\n",
    "plt.legend(['Expected K(h) for PPP', 'Estimated K(h)'])\n",
    "plt.xlabel('Bandwidth h')\n",
    "plt.ylabel('K-function value')\n",
    "plt.title('K-function: Estimated vs. Expected')\n",
    "plt.show()"
   ]
  },
  {
   "cell_type": "code",
   "execution_count": null,
   "metadata": {},
   "outputs": [],
   "source": [
    "# 3.4\n",
    "h = np.array(range(1, 8))\n",
    "# simulate and store the results in K_sims\n",
    "K_sims = [K(h) for _ in range(50)]\n",
    "# load data\n",
    "with open('Lab3_poisson_test_data.p', 'rb') as f:\n",
    "    d = pickle.load(f)\n",
    "x_test = d['x_test']\n",
    "y_test = d['y_test']\n",
    "# calculate K functions for test data\n",
    "K_test = K(h, new=False, x=x_test, y=y_test, z=x_test.shape[0])\n",
    "# plot the theoretical results\n",
    "plt.plot(h, np.pi * (h ** 2), 'b-', label='Expected K(h) for PPP')\n",
    "# plot the simulation results\n",
    "for K_sim in K_sims:\n",
    "    plt.plot(h, K_sim, 'r-', alpha=0.3)\n",
    "plt.plot([], [], 'r-', label='Estimated K(h)')\n",
    "# plot the test results\n",
    "plt.plot(h, K_test, 'g-', label='Estimated K(h) for Test Data')\n",
    "plt.legend()\n",
    "plt.xlabel('Bandwidth h')\n",
    "plt.ylabel('K-function value')\n",
    "plt.title('K-function: Estimated with Test Data vs. Expected vs. Simulation')\n",
    "plt.show()"
   ]
  },
  {
   "cell_type": "markdown",
   "metadata": {},
   "source": [
    "## Lab 4: shapely and geopandas"
   ]
  },
  {
   "cell_type": "markdown",
   "metadata": {},
   "source": [
    "### Geometries in shapely\n",
    "\n",
    "* [Intro to geometric objects in shapely](https://automating-gis-processes.github.io/2016/Lesson1-Geometric-Objects.html)\n",
    "\n",
    "__Structures of Geometries__\n",
    "\n",
    "* A `Point` is a collection of two (three) numbers, each representing x, y, (z,) coordinates.\n",
    "* A `LinearRing` is a sequence of points, with the last point being the same as the first one. (Here we skip the discussion on validity of geometries.)\n",
    "* A Polygon (e.g., `rectangles`) has one exterior `rectangles.exterior` (a `LinearRing`) and potentially multiple interiors `triangle.interiors` (each element, e.g. `triangle.interiors[0]`, is a `LinearRing`).\n",
    "* A `MultiPolygon` is a sequence of `Polygon`'s."
   ]
  },
  {
   "cell_type": "code",
   "execution_count": null,
   "metadata": {},
   "outputs": [],
   "source": [
    "from shapely.geometry import (Point, LinearRing,\n",
    "                              Polygon, MultiPolygon)\n",
    "p = Point((1, 2))\n",
    "ring = LinearRing([(1, 2), (8, 4),\n",
    "                   (5, 10), (1, 2)])\n",
    "triangle = Polygon([(1, 2), (8, 4),\n",
    "                    (5, 10), (1, 2)])\n",
    "rectangles = Polygon(\n",
    "    # these are the exterior coordinates\n",
    "    [(2.5, 7), (9, 7), (9, 12), (2.5, 12), (2.5, 7)],\n",
    "    # these are the interior coordinates (the holes)\n",
    "    [[(3, 8), (4, 8), (4, 9), (3, 9), (3, 8)],\n",
    "     [(7, 10), (8, 10), (8, 11), (7, 11), (7, 10)]])\n",
    "mp = MultiPolygon([triangle, rectangles])"
   ]
  },
  {
   "cell_type": "markdown",
   "metadata": {},
   "source": [
    "### 1-min Exercise: How do we take the union of two geometries?"
   ]
  },
  {
   "cell_type": "markdown",
   "metadata": {},
   "source": [
    "[TODO: WRITE DOWN YOUR THOUGHTS]"
   ]
  },
  {
   "cell_type": "markdown",
   "metadata": {},
   "source": [
    "### What does shapely do?\n",
    "* It implements many operations on geometries that would have been difficult and time consuming to write ourselves, including union, intersection, difference, buffer, distance, etc.\n",
    "* Usually the syntax is `NewObject = OneObject.operation(AnotherObject)`, for example\n",
    "\n",
    "```python\n",
    "result = triangle.intersection(rectangles)\n",
    "result = rectangles.union(triangle)\n",
    "result = rectangles.difference(triangle)\n",
    "```\n",
    "\n",
    "* Other operations:\n",
    "```python\n",
    "result = rectangles.buffer(1)  # buffering\n",
    "from shapely.affinity import scale\n",
    "result = scale(rectangles, yfact=1.3)  # scaling\n",
    "```"
   ]
  },
  {
   "cell_type": "markdown",
   "metadata": {},
   "source": [
    "### 5-min Exercise: How do we construct an ellipse?"
   ]
  },
  {
   "cell_type": "code",
   "execution_count": null,
   "metadata": {},
   "outputs": [],
   "source": [
    "# TODO: CONSTRUCT AN ELLIPSE"
   ]
  },
  {
   "cell_type": "markdown",
   "metadata": {},
   "source": [
    "### Plotting shapely objects in matplotlib\n"
   ]
  },
  {
   "cell_type": "code",
   "execution_count": null,
   "metadata": {},
   "outputs": [],
   "source": [
    "lat, lon = rectangles.exterior.xy\n",
    "plt.plot(lon, lat, 'k-')\n",
    "plt.show()"
   ]
  },
  {
   "cell_type": "code",
   "execution_count": null,
   "metadata": {},
   "outputs": [],
   "source": [
    "lat, lon = rectangles.exterior.xy\n",
    "plt.plot(lon, lat, 'k-')\n",
    "for interior in rectangles.interiors:\n",
    "    lat, lon = interior.xy\n",
    "    plt.plot(lon, lat, 'k-')\n",
    "plt.show()"
   ]
  },
  {
   "cell_type": "code",
   "execution_count": null,
   "metadata": {},
   "outputs": [],
   "source": [
    "lat, lon = triangle.exterior.xy\n",
    "plt.fill(lon, lat)\n",
    "plt.show()"
   ]
  },
  {
   "cell_type": "markdown",
   "metadata": {},
   "source": [
    "## shapely + pandas = geopandas\n",
    "\n",
    "* GSI demo: Open the `demo.shp` shapefile with QGIS\n",
    "* Traditionally: Thinking of shapefiles as a collection of shapes, each associated with many attributes\n",
    "* geopandas: Thinking of shapefiles as data frames\n",
    "     * Each observation in a GeoDataFrame is a shape (or geometry), usually Polygon, but can be other things\n",
    "     * One special column `df['geometry']` records that (these geometries are all shapely objects)\n",
    "     * All the other columns will be the attributes that are associated with the geometries"
   ]
  },
  {
   "cell_type": "code",
   "execution_count": null,
   "metadata": {},
   "outputs": [],
   "source": [
    "import geopandas as gpd\n",
    "df = gpd.read_file('demo.shp')"
   ]
  },
  {
   "cell_type": "code",
   "execution_count": null,
   "metadata": {},
   "outputs": [],
   "source": [
    "# seamless integration with shapely\n",
    "geom = df.loc[0, 'geometry']\n",
    "type(geom)  # shapely Polygon"
   ]
  },
  {
   "cell_type": "code",
   "execution_count": null,
   "metadata": {},
   "outputs": [],
   "source": [
    "# plotting in one line\n",
    "df.plot()\n",
    "plt.show()"
   ]
  },
  {
   "cell_type": "code",
   "execution_count": null,
   "metadata": {},
   "outputs": [],
   "source": [
    "# reprojection in one line\n",
    "df = df.to_crs(epsg=4326)"
   ]
  },
  {
   "cell_type": "code",
   "execution_count": null,
   "metadata": {},
   "outputs": [],
   "source": [
    "# builds on powerful data frame support from pandas\n",
    "df = df.dropna()"
   ]
  }
 ],
 "metadata": {
  "kernelspec": {
   "display_name": "Python 3",
   "language": "python",
   "name": "python3"
  },
  "language_info": {
   "codemirror_mode": {
    "name": "ipython",
    "version": 3
   },
   "file_extension": ".py",
   "mimetype": "text/x-python",
   "name": "python",
   "nbconvert_exporter": "python",
   "pygments_lexer": "ipython3",
   "version": "3.7.1"
  }
 },
 "nbformat": 4,
 "nbformat_minor": 2
}
