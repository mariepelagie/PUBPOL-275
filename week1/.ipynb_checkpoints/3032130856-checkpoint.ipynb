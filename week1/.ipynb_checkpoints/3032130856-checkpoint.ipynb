{
 "cells": [
  {
   "cell_type": "markdown",
   "metadata": {},
   "source": [
    "# [Public Policy 275] Spatial Data and Analysis, Fall 2019\n",
    "\n",
    "# Lab 1: Orientation\n",
    "\n",
    "* University of California, Berkeley\n",
    "* Instructor: Solomon Hsiang\n",
    "* TA: Luna Yue Huang\n",
    "\n",
    "**About This Lab**\n",
    "* Due Date: Sep 4, 2019, 11:59AM\n",
    "* You may talk with other students about the lab, but each student is responsible for doing all exercises in the lab themselves and turning in their own write up. We will be checking code for evidence of copying and pasting.\n",
    "* When you are done with the lab, please restart the kernel and run all the codes one more time (press the \">>\" button), so that the grader will see a clean notebook. Don't forget to save! Please submit this lab to bCourses as `YOURCAL1ID.ipynb`. This will facilitate anonymous grading.\n",
    "* The class just recently transitioned from Matlab to Python. This is a newly developed assignment, so if you think there is an error or something is unclear, let us know right away. That will be extremely helpful to us and your fellow students.\n",
    "* These labs have been developed over the years by Solomon Hsiang, and past/current GSIs including Ian Bolliger, Tamma Carleton, Shubham Goel, Felipe González, Luna Yue Huang, Jonathan Kadish, and Jonathan Proctor (in alphabetical order)."
   ]
  },
  {
   "cell_type": "markdown",
   "metadata": {},
   "source": [
    "## Objectives\n",
    "By the end of this lab, you will be able to\n",
    "1. write comments in Markdown and edit/run your Jupyter Notebook cells\n",
    "2. write codes that follow basic Python conventions\n",
    "3. `import` modules\n",
    "4. create and manipulate vectors and matrices in `numpy` and `scipy`, visualize matrices with `matplotlib`"
   ]
  },
  {
   "cell_type": "markdown",
   "metadata": {},
   "source": [
    "## 1. Markdown and Jupyter Notebook Basics"
   ]
  },
  {
   "cell_type": "markdown",
   "metadata": {},
   "source": [
    "### Jupyter Notebook Cell Types\n",
    "There are four cell types: Code, Markdown, Raw NBConvert, and Heading. (Click on \"Code\"/\"Markdown\" to open the dropdown menu and change the current cell's type.) The primary cell types that you will use are \"Code\" and \"Markdown\". (The Heading cell type is no longer supported and the Raw NBConvert cell type is only intended for special use cases when using the nbconvert command line tool.)\n",
    "\n",
    "**1.1. Change the type of the following cell to \"Code\", and click on \"Run\" to run it.**"
   ]
  },
  {
   "cell_type": "code",
   "execution_count": 2,
   "metadata": {},
   "outputs": [
    {
     "name": "stdout",
     "output_type": "stream",
     "text": [
      "I am a cell\n"
     ]
    }
   ],
   "source": [
    "print(\"I am a cell\") # click me and change the type of this cell to Code"
   ]
  },
  {
   "cell_type": "markdown",
   "metadata": {},
   "source": [
    "**1.2. Change the type of the following cell to \"Markdown\". Read it to see how Markdown is written. Click on \"Run\" to render it and see what happens.**"
   ]
  },
  {
   "cell_type": "markdown",
   "metadata": {},
   "source": [
    "# Level 1 heading starts with a hashtag (and a space)\n",
    "## Level 2 heading starts with two hashtags (and a space)\n",
    "### Level 3 heading starts with three hashtags (and a space)\n",
    "\n",
    "A list is started with - or * (they are interchangable), watch this -\n",
    "- one item\n",
    "- another item\n",
    "* yet another item\n",
    "\n",
    "A line break after (but not before) a list is necessary. Delete the line break (empty line) above and render this cell to see what happens.\n",
    "\n",
    "Start a numbered list with \"1.\"\n",
    "1. the first item\n",
    "2. the second item\n",
    "\n",
    "Make text bold by __doing this__ or **doing this**.\n",
    "Make text italic by _doing this_ or *doing this*.\n",
    "Insert code by `doing this`.\n",
    "You will notice that you have to input two line breaks to actually get a line break.\n",
    "\n",
    "Like this.\n",
    "\n",
    "Insert a link by doing this: [a Markdown cheatsheet for people interested in learning more](https://github.com/adam-p/markdown-here/wiki/Markdown-Cheatsheet)."
   ]
  },
  {
   "cell_type": "markdown",
   "metadata": {},
   "source": [
    "### Jupyter Notebook Toolbar\n",
    "\n",
    "**1.3. Hover your cursor over the buttons to see what they do.**\n",
    "\n",
    "* The \"+\" plus button is for adding a new cell.\n",
    "* The scissors button is for cutting/deleting an existing cell. (To undo this, click on Edit > Undo Delete Cells.)\n",
    "* The up/down buttons are for moving cells up/down.\n",
    "* The \"Run\" button is for running the codes/rendering the Markdown text.\n",
    "* The square button stops the codes from running.\n",
    "* The \"update\" button restarts the kernel, which means that all the existing variables/functions in your environment will be lost. This \"resets\" this notebook and it is as if you have shut down this notebook and opened it again.\n",
    "* The \">>\" button restarts the kernel, and re-runs all the codes in the notebook.\n",
    "* Finally, if you want to print the notebook as a pdf, you can click on File > Download as > PDF via LaTeX (.pdf) (or other forms of your choice). The notebook will be nicely rendered and downloaded."
   ]
  },
  {
   "cell_type": "markdown",
   "metadata": {},
   "source": [
    "## 2. Being Pythonic\n",
    "### Basic Data Types and Operations in Python\n",
    "Let's try to do some basic operations and see some common types of objects in Python.\n",
    "\n",
    "**2.1. Do the following.**\n",
    "1. assign `a` a value of 1: `a = 1`\n",
    "2. overwrite `a`'s value to be itself plus 1 (which equals 2): `a = a + 1`\n",
    "3. show the value of `a`: `print(a)` (if you have used Python 2, you'll notice that this is where Python 3 is different from Python 2)\n",
    "4. click on the \"update\" button, which restarts the kernel, if you run `print(a)` again, you will notice that `a` is gone. When the kernel is restarted, all the variables or functions that you have defined are gone."
   ]
  },
  {
   "cell_type": "code",
   "execution_count": 3,
   "metadata": {},
   "outputs": [],
   "source": [
    "# TODO: WRITE YOUR CODES HERE\n",
    "a=1\n",
    "a=a+1"
   ]
  },
  {
   "cell_type": "code",
   "execution_count": 4,
   "metadata": {},
   "outputs": [
    {
     "name": "stdout",
     "output_type": "stream",
     "text": [
      "2\n"
     ]
    }
   ],
   "source": [
    "print(a)"
   ]
  },
  {
   "cell_type": "markdown",
   "metadata": {},
   "source": [
    "In Python there is also a data type **bool**, which only takes on two values, `True` or `False`. For example, `1 + 1 = 2` is `True`, but `2 + 1 = 5` is `False`.\n",
    "5. In python there is `True` and `False`, which are case sensitive (so you can't type `true` or `TRUE`). Try: `a = True`\n",
    "6. In python there is also a special object `None` which is basically N/A. Do this:\n",
    "\n",
    "```python\n",
    "a = None\n",
    "if a is None:\n",
    "    print('a is None')\n",
    "```"
   ]
  },
  {
   "cell_type": "code",
   "execution_count": 5,
   "metadata": {},
   "outputs": [
    {
     "name": "stdout",
     "output_type": "stream",
     "text": [
      "a is None\n"
     ]
    }
   ],
   "source": [
    "# TODO: WRITE YOUR CODES HERE\n",
    "a = None\n",
    "if a is None:\n",
    "    print('a is None')"
   ]
  },
  {
   "cell_type": "markdown",
   "metadata": {},
   "source": [
    "A **list** in Python is a collection of elements. Usually people create a homogeneous list (where all the elements are of the same type) but that need not be the case. For example, we can use a list with two elements to keep track of a geo coordinate.\n",
    "7. create a list: `A = [1, 2, 3]` (notice that the names of the variables are case-sensitive)\n",
    "8. access the first item in the list: `print(A[0])` (Jupyter Notebook prints things by default, so you can also do `A[0]` directly). **Python starts counting at 0 (it will take a while for you to get used to this).**"
   ]
  },
  {
   "cell_type": "code",
   "execution_count": 6,
   "metadata": {},
   "outputs": [
    {
     "name": "stdout",
     "output_type": "stream",
     "text": [
      "1\n"
     ]
    }
   ],
   "source": [
    "# TODO: WRITE YOUR CODES HERE\n",
    "A = [1, 2, 3]\n",
    "print(A[0])"
   ]
  },
  {
   "cell_type": "markdown",
   "metadata": {},
   "source": [
    "A **dict(ionary)** in Python is a collection of key-value mappings.\n",
    "9. overwrite `A` and make it a dictionary: `A = {'python': 'a large constricting snake', 'pandas': 'cute black-and-white mammals'}`\n",
    "10. a dictionary is a type of object with key-value pairs, the `python` and `pandas` here are keys, and the corresponding descriptions are values. We can access a value by providing the keys (which is why this is called a dictionary): `print(A['python'])`"
   ]
  },
  {
   "cell_type": "code",
   "execution_count": 7,
   "metadata": {},
   "outputs": [
    {
     "data": {
      "text/plain": [
       "'a large constricting snake'"
      ]
     },
     "execution_count": 7,
     "metadata": {},
     "output_type": "execute_result"
    }
   ],
   "source": [
    "# TODO: WRITE YOUR CODES HERE\n",
    "A = {'python': 'a large constricting snake', 'pandas': 'cute black-and-white mammals'}\n",
    "A['python']\n"
   ]
  },
  {
   "cell_type": "markdown",
   "metadata": {},
   "source": [
    "To see all the variables that are in the current environment, type `%who`. This is called a jupyter notebook magic command (it isn't Python). It will show you all the existing variables."
   ]
  },
  {
   "cell_type": "code",
   "execution_count": 8,
   "metadata": {},
   "outputs": [
    {
     "name": "stdout",
     "output_type": "stream",
     "text": [
      "A\t a\t \n"
     ]
    }
   ],
   "source": [
    "%who"
   ]
  },
  {
   "cell_type": "markdown",
   "metadata": {},
   "source": [
    "### The Pythonic Coding Style: Indentation and Indexing\n",
    "Now let's talk about coding style. The ultimate guide to coding in Python is the [PEP 8 -- Style Guide for Python Code](https://www.python.org/dev/peps/pep-0008/). Here are some of the basics (to make sure that your codes run).\n",
    "\n",
    "**2.2. Run the following cells and watch what happens.**"
   ]
  },
  {
   "cell_type": "code",
   "execution_count": 9,
   "metadata": {},
   "outputs": [
    {
     "ename": "IndentationError",
     "evalue": "unexpected indent (<ipython-input-9-19ffc04df870>, line 8)",
     "output_type": "error",
     "traceback": [
      "\u001b[1;36m  File \u001b[1;32m\"<ipython-input-9-19ffc04df870>\"\u001b[1;36m, line \u001b[1;32m8\u001b[0m\n\u001b[1;33m    a = 1\u001b[0m\n\u001b[1;37m    ^\u001b[0m\n\u001b[1;31mIndentationError\u001b[0m\u001b[1;31m:\u001b[0m unexpected indent\n"
     ]
    }
   ],
   "source": [
    "# this is a comment\n",
    "# whatever you write here will not impact your codes in any way\n",
    "\n",
    "# python take indentation seriously\n",
    "# so you cannot throw in random spaces\n",
    "# they will cause errors\n",
    "# watch this\n",
    "    a = 1\n",
    "# TODO: FIX CODES IN THIS CELL"
   ]
  },
  {
   "cell_type": "code",
   "execution_count": 11,
   "metadata": {},
   "outputs": [
    {
     "ename": "IndentationError",
     "evalue": "expected an indented block (<ipython-input-11-dbcafa7e82bd>, line 4)",
     "output_type": "error",
     "traceback": [
      "\u001b[1;36m  File \u001b[1;32m\"<ipython-input-11-dbcafa7e82bd>\"\u001b[1;36m, line \u001b[1;32m4\u001b[0m\n\u001b[1;33m    print('a is positive')\u001b[0m\n\u001b[1;37m        ^\u001b[0m\n\u001b[1;31mIndentationError\u001b[0m\u001b[1;31m:\u001b[0m expected an indented block\n"
     ]
    }
   ],
   "source": [
    "# or this\n",
    "a = 1\n",
    "if a > 0:\n",
    "print('a is positive')\n",
    "# TODO: FIX CODES IN THIS CELL"
   ]
  },
  {
   "cell_type": "markdown",
   "metadata": {},
   "source": [
    "In Python, indentation is used to determine the grouping of statements. When you do an `if` or a `for` statement, you can use indentation to mark what should be within the `if` or the `for` block. It is equivalent to curly brackets in many other programming languages.\n",
    "\n",
    "Indent your codes with **4 SPACES**, not tabs (according to PEP-8)."
   ]
  },
  {
   "cell_type": "code",
   "execution_count": 12,
   "metadata": {},
   "outputs": [
    {
     "name": "stdout",
     "output_type": "stream",
     "text": [
      "a is positive\n"
     ]
    }
   ],
   "source": [
    "# the correct way of doing if statement\n",
    "a = 1\n",
    "if a > 0:\n",
    "    print('a is positive')"
   ]
  },
  {
   "cell_type": "code",
   "execution_count": 13,
   "metadata": {},
   "outputs": [
    {
     "name": "stdout",
     "output_type": "stream",
     "text": [
      "0\n",
      "1\n",
      "2\n"
     ]
    }
   ],
   "source": [
    "# the correct way of doing for loops\n",
    "for i in range(3):\n",
    "    print(i)"
   ]
  },
  {
   "cell_type": "markdown",
   "metadata": {},
   "source": [
    "Again, you will notice that Python starts counting at 0. When you do the above, python does count three times, but it counts from 0 to 2 (not 3!).\n",
    "\n",
    "Python has many other salient and desirable features, e.g., unpacking, ignored variable, list comprehension, `zip()` and `enumerate()`. We will talk about some of these in the future. These features, like Python's indentation, make Python codes concise, elegant and readable. You will come to appreciate this more as you become more familiar with Python."
   ]
  },
  {
   "cell_type": "markdown",
   "metadata": {},
   "source": [
    "### Reserved Keywords in Core Python \n",
    "As you can see, without importing any packages, the basic (built-in) functionality of Python is actually rather limited. Let's take a look at all the functions and variables that there are (which are not many).\n",
    "\n",
    "**2.3. Run the following cell (you don't need to understand the codes), which prints out all the reserved keywords in core Python. You should NEVER EVER name your variables or functions any of these, because that could potentially result in errors, and is confusing to the readers.**\n",
    "\n",
    "Here are some of the names that I was very tempted to use but are actually already taken by core Python: `id`, `input`, `eval`, `map`, `max`, `min`, `sum`, `vars`, `type`, etc."
   ]
  },
  {
   "cell_type": "code",
   "execution_count": 14,
   "metadata": {},
   "outputs": [
    {
     "data": {
      "text/plain": [
       "['ArithmeticError',\n",
       " 'AssertionError',\n",
       " 'AttributeError',\n",
       " 'BaseException',\n",
       " 'BlockingIOError',\n",
       " 'BrokenPipeError',\n",
       " 'BufferError',\n",
       " 'BytesWarning',\n",
       " 'ChildProcessError',\n",
       " 'ConnectionAbortedError',\n",
       " 'ConnectionError',\n",
       " 'ConnectionRefusedError',\n",
       " 'ConnectionResetError',\n",
       " 'DeprecationWarning',\n",
       " 'EOFError',\n",
       " 'Ellipsis',\n",
       " 'EnvironmentError',\n",
       " 'Exception',\n",
       " 'False',\n",
       " 'FileExistsError',\n",
       " 'FileNotFoundError',\n",
       " 'FloatingPointError',\n",
       " 'FutureWarning',\n",
       " 'GeneratorExit',\n",
       " 'IOError',\n",
       " 'ImportError',\n",
       " 'ImportWarning',\n",
       " 'IndentationError',\n",
       " 'IndexError',\n",
       " 'InterruptedError',\n",
       " 'IsADirectoryError',\n",
       " 'KeyError',\n",
       " 'KeyboardInterrupt',\n",
       " 'LookupError',\n",
       " 'MemoryError',\n",
       " 'ModuleNotFoundError',\n",
       " 'NameError',\n",
       " 'None',\n",
       " 'NotADirectoryError',\n",
       " 'NotImplemented',\n",
       " 'NotImplementedError',\n",
       " 'OSError',\n",
       " 'OverflowError',\n",
       " 'PendingDeprecationWarning',\n",
       " 'PermissionError',\n",
       " 'ProcessLookupError',\n",
       " 'RecursionError',\n",
       " 'ReferenceError',\n",
       " 'ResourceWarning',\n",
       " 'RuntimeError',\n",
       " 'RuntimeWarning',\n",
       " 'StopAsyncIteration',\n",
       " 'StopIteration',\n",
       " 'SyntaxError',\n",
       " 'SyntaxWarning',\n",
       " 'SystemError',\n",
       " 'SystemExit',\n",
       " 'TabError',\n",
       " 'TimeoutError',\n",
       " 'True',\n",
       " 'TypeError',\n",
       " 'UnboundLocalError',\n",
       " 'UnicodeDecodeError',\n",
       " 'UnicodeEncodeError',\n",
       " 'UnicodeError',\n",
       " 'UnicodeTranslateError',\n",
       " 'UnicodeWarning',\n",
       " 'UserWarning',\n",
       " 'ValueError',\n",
       " 'Warning',\n",
       " 'WindowsError',\n",
       " 'ZeroDivisionError',\n",
       " '__IPYTHON__',\n",
       " '__build_class__',\n",
       " '__debug__',\n",
       " '__doc__',\n",
       " '__import__',\n",
       " '__loader__',\n",
       " '__name__',\n",
       " '__package__',\n",
       " '__spec__',\n",
       " 'abs',\n",
       " 'all',\n",
       " 'any',\n",
       " 'ascii',\n",
       " 'bin',\n",
       " 'bool',\n",
       " 'breakpoint',\n",
       " 'bytearray',\n",
       " 'bytes',\n",
       " 'callable',\n",
       " 'chr',\n",
       " 'classmethod',\n",
       " 'compile',\n",
       " 'complex',\n",
       " 'copyright',\n",
       " 'credits',\n",
       " 'delattr',\n",
       " 'dict',\n",
       " 'dir',\n",
       " 'display',\n",
       " 'divmod',\n",
       " 'enumerate',\n",
       " 'eval',\n",
       " 'exec',\n",
       " 'filter',\n",
       " 'float',\n",
       " 'format',\n",
       " 'frozenset',\n",
       " 'get_ipython',\n",
       " 'getattr',\n",
       " 'globals',\n",
       " 'hasattr',\n",
       " 'hash',\n",
       " 'help',\n",
       " 'hex',\n",
       " 'id',\n",
       " 'input',\n",
       " 'int',\n",
       " 'isinstance',\n",
       " 'issubclass',\n",
       " 'iter',\n",
       " 'len',\n",
       " 'license',\n",
       " 'list',\n",
       " 'locals',\n",
       " 'map',\n",
       " 'max',\n",
       " 'memoryview',\n",
       " 'min',\n",
       " 'next',\n",
       " 'object',\n",
       " 'oct',\n",
       " 'open',\n",
       " 'ord',\n",
       " 'pow',\n",
       " 'print',\n",
       " 'property',\n",
       " 'range',\n",
       " 'repr',\n",
       " 'reversed',\n",
       " 'round',\n",
       " 'set',\n",
       " 'setattr',\n",
       " 'slice',\n",
       " 'sorted',\n",
       " 'staticmethod',\n",
       " 'str',\n",
       " 'sum',\n",
       " 'super',\n",
       " 'tuple',\n",
       " 'type',\n",
       " 'vars',\n",
       " 'zip']"
      ]
     },
     "execution_count": 14,
     "metadata": {},
     "output_type": "execute_result"
    }
   ],
   "source": [
    "dir(__builtins__)"
   ]
  },
  {
   "cell_type": "markdown",
   "metadata": {},
   "source": [
    "## 3. `import` modules\n",
    "As we saw, Python's core library doesn't have that many functions. In order to use functions that people have written before, but are not included in core Python, we need to load a library. In Python, this is done via the `import` command.\n",
    "\n",
    "We will only talk about absolute import (importing standard libraries that you've installed with `pip` or `conda`) and not relative import (importing codes that you have written but live elsewhere on your laptop), because the latter can be complicated and is not necessary for this class.\n",
    "\n",
    "The simplest importing happens this way:\n",
    "\n",
    "```python\n",
    "import numpy\n",
    "```\n",
    "\n",
    "This allows you to access all the functions in the `numpy` library. Access these functions (or objects) by using a dot, like this: `numpy.array()`.\n",
    "\n",
    "The convention for importing some standard packages is to give them a shorter name (this is called aliasing), so that you don't have to type that many characters. This is done via `import ... as ...`, for example:\n",
    "\n",
    "```python\n",
    "import numpy as np\n",
    "import scipy as sp\n",
    "import matplotlib.pyplot as plt\n",
    "```\n",
    "\n",
    "You can of course give them different names of your choice, e.g., `import numpy as bunny`, but that is bad coding practice (it is confusing to the readers) and is strongly discouraged.\n",
    "\n",
    "If you don't want to import everything (for example, if you want to use just one function from a huge library), do `from ... import ...` and then you can access the function directly, for example:\n",
    "\n",
    "```python\n",
    "from numpy import array\n",
    "```\n",
    "\n",
    "you can then use `array()` directly.\n",
    "\n",
    "Some libraries (python calls them modules) have submodules. For example, `scipy` has a submodule `scipy.optimize`. You can either `import scipy.optimize` or `from scipy import optimize`.\n",
    "\n",
    "**When you import a module, its submodules are not always automatically imported! If you do `import scipy`, for example, its submodule `scipy.optimize` is NOT imported. You have to explicitly import the submodule as well.** There are some exceptions, however, e.g., `os` submodules are imported with the module.\n",
    "\n",
    "_[optional] To fully understand Python's `import` command, you need to understand the Namespace concept in Python, which is a great feature. We will introduce that later on in this class._"
   ]
  },
  {
   "cell_type": "markdown",
   "metadata": {},
   "source": [
    "## 4. Vectors and Matrices in Python\n",
    "These exercises will help you get familiarized with `numpy`, `scipy` and `matplotlib`.\n",
    "\n",
    "**4.1. Import packages that you need and create a 2x2 matrix (python/numpy calls it array or ndarray (n-dimensional array)) `A` as follows.**\n",
    "\n",
    "```python\n",
    "A = np.array([[1, 50], [2, 63]])\n",
    "A # this prints the array for you to see\n",
    "```"
   ]
  },
  {
   "cell_type": "code",
   "execution_count": 15,
   "metadata": {},
   "outputs": [
    {
     "data": {
      "text/plain": [
       "array([[ 1, 50],\n",
       "       [ 2, 63]])"
      ]
     },
     "execution_count": 15,
     "metadata": {},
     "output_type": "execute_result"
    }
   ],
   "source": [
    "# TODO: WRITE YOUR CODES HERE\n",
    "import numpy as np\n",
    "A = np.array([[1, 50], [2, 63]])\n",
    "A"
   ]
  },
  {
   "cell_type": "markdown",
   "metadata": {},
   "source": [
    "**4.2. What is `A[0, 1]`? The first index refers to row and the second refers to column. Remember, Python starts counting at 0.**"
   ]
  },
  {
   "cell_type": "code",
   "execution_count": 16,
   "metadata": {},
   "outputs": [
    {
     "data": {
      "text/plain": [
       "50"
      ]
     },
     "execution_count": 16,
     "metadata": {},
     "output_type": "execute_result"
    }
   ],
   "source": [
    "# TODO: WRITE YOUR CODES HERE\n",
    "A[0,1]"
   ]
  },
  {
   "cell_type": "markdown",
   "metadata": {},
   "source": [
    "**4.3. Change the element that you just viewed to 9. Type `A` to view the changed matrix.**"
   ]
  },
  {
   "cell_type": "code",
   "execution_count": 17,
   "metadata": {},
   "outputs": [
    {
     "data": {
      "text/plain": [
       "array([[ 1,  9],\n",
       "       [ 2, 63]])"
      ]
     },
     "execution_count": 17,
     "metadata": {},
     "output_type": "execute_result"
    }
   ],
   "source": [
    "# TODO: WRITE YOUR CODES HERE\n",
    "A[0,1]=9\n",
    "A"
   ]
  },
  {
   "cell_type": "markdown",
   "metadata": {},
   "source": [
    "**4.4. If we want to isolate an entire row or an entire column of a matrix, we use the colon (:) as the index instead of a specific numerical value. Python reads this as \"all values\", so if we type `A[:, 0]`, Python returns all rows in the first column. What is `A[:, 1]`? What about `A[1, :]`?**"
   ]
  },
  {
   "cell_type": "code",
   "execution_count": 18,
   "metadata": {},
   "outputs": [
    {
     "data": {
      "text/plain": [
       "array([ 2, 63])"
      ]
     },
     "execution_count": 18,
     "metadata": {},
     "output_type": "execute_result"
    }
   ],
   "source": [
    "# TODO: WRITE YOUR CODES HERE\n",
    "A[1,:] # returns the second row of A\n"
   ]
  },
  {
   "cell_type": "markdown",
   "metadata": {},
   "source": [
    "**4.5. We can replace an entire row or entire column using this notation. Type `A[1, :] = [1000, 2000]`. What is A now? Remember, although we can do this, `[1000, 2000]` is a list, not array.**"
   ]
  },
  {
   "cell_type": "code",
   "execution_count": 19,
   "metadata": {},
   "outputs": [],
   "source": [
    "# TODO: WRITE YOUR CODES HERE\n",
    "A[1, :] = [1000, 2000]"
   ]
  },
  {
   "cell_type": "markdown",
   "metadata": {},
   "source": [
    "**4.6. When we enter a matrix into Python, we have to first construct a (nested) list, and then convert this list to a numpy array. Python always starts filling in a matrix from the upper left. Type `C = [[1, 2, 3, 4], [50, 60, 70, 80], [0, 1000, 0, 0]]`, which makes `C` a nested list. Then type `C = np.array(C)`, which converts `C` to a numpy array. What are the dimensions of this array (how many rows and how many columns)? Type `C.shape` to ask Python how big the matrix is.**"
   ]
  },
  {
   "cell_type": "code",
   "execution_count": 20,
   "metadata": {},
   "outputs": [
    {
     "data": {
      "text/plain": [
       "(3, 4)"
      ]
     },
     "execution_count": 20,
     "metadata": {},
     "output_type": "execute_result"
    }
   ],
   "source": [
    "# TODO: WRITE YOUR CODES HERE\n",
    "C = [[1, 2, 3, 4], [50, 60, 70, 80], [0, 1000, 0, 0]]\n",
    "C = np.array(C)\n",
    "C.shape"
   ]
  },
  {
   "cell_type": "markdown",
   "metadata": {},
   "source": [
    "**4.7. Replace the 1000 in `C` with a zero. What is the command to do this?**"
   ]
  },
  {
   "cell_type": "code",
   "execution_count": 21,
   "metadata": {},
   "outputs": [
    {
     "data": {
      "text/plain": [
       "array([[ 1,  2,  3,  4],\n",
       "       [50, 60, 70, 80],\n",
       "       [ 0,  0,  0,  0]])"
      ]
     },
     "execution_count": 21,
     "metadata": {},
     "output_type": "execute_result"
    }
   ],
   "source": [
    "# TODO: WRITE YOUR CODES HERE\n",
    "C[2,1]=0\n",
    "C"
   ]
  },
  {
   "cell_type": "markdown",
   "metadata": {},
   "source": [
    "**4.8. What is the size of the transpose of `C` (hint: `C.T` is its transpose)?**"
   ]
  },
  {
   "cell_type": "code",
   "execution_count": 23,
   "metadata": {},
   "outputs": [
    {
     "data": {
      "text/plain": [
       "(4, 3)"
      ]
     },
     "execution_count": 23,
     "metadata": {},
     "output_type": "execute_result"
    }
   ],
   "source": [
    "# TODO: WRITE YOUR CODES HERE\n",
    "C.T.shape #the size of the transpose of C"
   ]
  },
  {
   "cell_type": "markdown",
   "metadata": {},
   "source": [
    "**4.9. What is the last column of the matrix `C` (hint: another nice Python feature: try `C[:, -1]`, -1 means the last index, -2 means the second to last, and so on, so forth)?**"
   ]
  },
  {
   "cell_type": "code",
   "execution_count": null,
   "metadata": {},
   "outputs": [],
   "source": [
    "# TODO: WRITE YOUR CODES HERE\n",
    "C[:,-1]\n"
   ]
  },
  {
   "cell_type": "markdown",
   "metadata": {},
   "source": [
    "**4.10. We can \"stack\" matrices, which means sticking them together vertically or horizontally to get an even larger matrix. To do this, we can use the functions `np.vstack()` or `np.hstack()` (for vertical and horizontal stacking, respectively). Try `D = np.vstack((C, C))`. How large is the resulting matrix `D`?**"
   ]
  },
  {
   "cell_type": "code",
   "execution_count": null,
   "metadata": {},
   "outputs": [],
   "source": [
    "# TODO: WRITE YOUR CODES HERE\n",
    "D = np.vstack((C, C))\n",
    "D"
   ]
  },
  {
   "cell_type": "markdown",
   "metadata": {},
   "source": [
    "**4.11. Can you `np.hstack((D, C))`? Why?**"
   ]
  },
  {
   "cell_type": "code",
   "execution_count": null,
   "metadata": {},
   "outputs": [],
   "source": [
    "# TODO: WRITE YOUR CODES HERE\n",
    "## No you cannot carry out np.hstack((D, C)) because the rows of C and D are not equal"
   ]
  },
  {
   "cell_type": "markdown",
   "metadata": {},
   "source": [
    "**4.12. Run the following cell to get the locations of three houses: \"house0\", \"house1\", \"house2\" and a \"school\". The location of each house/school was documented using the \"Cartesian XY\" coordinate system, and names of variables indicate the house (or school) and the X or Y measurement for that house (or school). We are going to create our first map using these data.**"
   ]
  },
  {
   "cell_type": "code",
   "execution_count": null,
   "metadata": {},
   "outputs": [],
   "source": [
    "# load libraries\n",
    "import numpy as np\n",
    "import matplotlib.pyplot as plt\n",
    "# the following is jupyter notebook magic\n",
    "# this changes matplotlib setting so that figures show up within the notebook\n",
    "%matplotlib inline\n",
    "\n",
    "house0_x = 2\n",
    "house0_y = 3\n",
    "house1_x = 5\n",
    "house1_y = 5\n",
    "house2_x = 7\n",
    "house2_y = 1\n",
    "school_x = 4\n",
    "school_y = 4"
   ]
  },
  {
   "cell_type": "markdown",
   "metadata": {},
   "source": [
    "**4.13. Observe the following cell and make sure that you understand how house0 is being plotted. Plot the other two houses, also with the symbol '+'. Put the school on the map, but change the symbol for the marker to be a red triangle by using '^r' as the third argument of `plt.plot()` instead of '+'. (The '^' tells Python to use the triangle symbol, and the 'r' tells Python to make it red).**"
   ]
  },
  {
   "cell_type": "code",
   "execution_count": null,
   "metadata": {},
   "outputs": [],
   "source": [
    "plt.xlim((0, 10)) # set x axis limit to be from 0 to 10\n",
    "plt.ylim((0, 10)) # set y axis limit to be from 0 to 10\n",
    "plt.plot(house0_x, house0_y, '+') # '+' tells Python the symbol you want to use\n",
    "plt.plot(house1_x, house1_y, '+') \n",
    "plt.plot(house2_x, house2_y, '+') \n",
    "plt.plot(school_x, school_y, '^r') \n",
    "# TODO: ADD MORE plt.plot() HERE TO PLOT THE OTHER TWO HOUSES AND THE SCHOOL\n",
    "plt.show() # show the figure"
   ]
  },
  {
   "cell_type": "markdown",
   "metadata": {},
   "source": [
    "_One thing to be aware of is that in Jupyter Notebook, by default, the matplotlib Figure object is cleared at the end of each cell, so you will need to issue all plotting commands for a single figure in a single cell._"
   ]
  },
  {
   "cell_type": "markdown",
   "metadata": {},
   "source": [
    "We discussed in the lecture that we can create a mapping between an address and a geo-coordinate. Now we will try to do this with Python.\n",
    "\n",
    "To do this, we will have to get to know some of the standard ways in which people represent geospatial objects. The two most popular conventions for representing these are shapefiles (`.shp`) and `.geojson` files. You will see an example of a geojson file below.\n",
    "\n",
    "**4.14. Now, let's plot something real: plot Goldman School with 'xb', Downtown Berkeley BART Station with '.g', and Campanile with '^r').**\n",
    "\n",
    "We will be doing what is typically called a geocoding API (Application Programming Interface) request. This is where you put in an address (or some other sort of query keywords) and get the spatial coordinates. You do this on a daily basis when you type an address in Google Maps and find the latitude and longitude of that place. As we will learn more about API requests in the future, we do not require that you do this programmatically, but you are welcome to do that if you like challenges.\n",
    "\n",
    "To do this manually but still using geocoding APIs (with OpenStreetMap), examine this url:\n",
    "\n",
    "https://nominatim.openstreetmap.org/?q=campanile+berkeley&format=geojson\n",
    "\n",
    "Don't worry about the part before \"?\". The question mark (\"?\") marks the start of the arguments that you are passing into the API. We are passed two arguments -\n",
    "\n",
    "1. `q` (for query) is campanile berkeley (OSM is usually smart enough to parse fuzzy addresses like this one), we use \"+\" instead of a space because space creates problems in urls.\n",
    "2. `format` is `geojson`, which is a format commonly used to store geocoded geometries. (Use this format for your other queries, too.)\n",
    "\n",
    "Insert an equal sign \"=\" between a parameter and an argument (the value that you want to assign to a parameter), and insert ampersands \"&\" between arguments.\n",
    "\n",
    "You will see the following when you click on the link above, as you can imagine, you can extract the coordinates (the last two numbers) programmatically fairly easily (and you will have to do that if you have thousands of coordinates), but for now let's do it by hand.\n",
    "\n",
    "```\n",
    "{\"type\":\"FeatureCollection\",\"licence\":\"Data © OpenStreetMap contributors, ODbL 1.0. https://osm.org/copyright\",\"features\":[{\"type\":\"Feature\",\"properties\":{\"place_id\":81130905,\"osm_type\":\"way\",\"osm_id\":24024507,\"display_name\":\"Sather Tower, South Drive, Southside, Berkeley, Alameda County, California, 94720, USA\",\"place_rank\":30,\"category\":\"tourism\",\"type\":\"attraction\",\"importance\":0.41303438301932605,\"icon\":\"https://nominatim.openstreetmap.org/images/mapicons/poi_point_of_interest.p.20.png\"},\"bbox\":[-122.25789,37.8720008,-122.2577396,37.8721141],\"geometry\":{\"type\":\"Point\",\"coordinates\":[-122.257814805817,37.8720575]}}]}\n",
    "```\n",
    "\n",
    "Plot the campanile by\n",
    "\n",
    "```python\n",
    "plt.plot(-122.257814805817, 37.8720575, '^r')\n",
    "```\n",
    "\n",
    "Following this example, finish the plot."
   ]
  },
  {
   "cell_type": "code",
   "execution_count": null,
   "metadata": {},
   "outputs": [],
   "source": [
    "# TODO: PLOT THE MAP HERE\n",
    "plt.plot(-122.257814805817, 37.8720575, '^r') #plot campanile\n",
    "plt.plot(-122.257979979865,37.8756681, 'xb') #plot Goldman School\n",
    "plt.plot(-122.268254,37.868993, 'g.') #plot downtown bart"
   ]
  },
  {
   "cell_type": "markdown",
   "metadata": {},
   "source": [
    "## Congratulations!\n",
    "You've finished this lab! Things will only get easier from here, and more enjoyable.\n",
    "\n",
    "* **Please list everyone you worked on this assignment with outside of public Piazza discussions.**\n",
    "\n",
    "When you are done with the lab, please restart the kernel and run all the codes one more time (press the \">>\" button), so that the grader will see a clean notebook. Don't forget to save! Please submit this lab to bCourses as `YOURCAL1ID.ipynb`."
   ]
  }
 ],
 "metadata": {
  "kernelspec": {
   "display_name": "Python 3",
   "language": "python",
   "name": "python3"
  },
  "language_info": {
   "codemirror_mode": {
    "name": "ipython",
    "version": 3
   },
   "file_extension": ".py",
   "mimetype": "text/x-python",
   "name": "python",
   "nbconvert_exporter": "python",
   "pygments_lexer": "ipython3",
   "version": "3.7.1"
  }
 },
 "nbformat": 4,
 "nbformat_minor": 2
}
