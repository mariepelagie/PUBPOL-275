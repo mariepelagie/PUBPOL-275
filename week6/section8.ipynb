{
 "cells": [
  {
   "cell_type": "code",
   "execution_count": null,
   "metadata": {},
   "outputs": [],
   "source": [
    "import numpy as np\n",
    "import matplotlib.pyplot as plt\n",
    "import geopandas as gpd\n",
    "from rasterio.features import geometry_mask\n",
    "from affine import Affine\n",
    "\n",
    "%matplotlib inline"
   ]
  },
  {
   "cell_type": "markdown",
   "metadata": {},
   "source": [
    "## 2. Bazaar Optimality\n",
    "\n",
    "You have been asked by the World Bank to identify the best location for 22 marketplaces that they plan to build in Guatemala, one for each of the 22 _departamentos_ (the first administrative unit in Guatemala). For each _departamento_, the location of the marketplace should be selected to reduce the travel cost to and from the market for residents throughout that _departamento_. However, you must also take into account the distance from the market to Guatemala City ($14.6^{\\circ}N ~ 90.5^{\\circ}W$), since that is the central hub where merchants will be traveling to and from with their products for each regional market. The task for you is to select an approximate location within each departamento that minimizes total expected travel cost to and from the market for all Guatemalans, both within the region and between the market and Guatemala City. \n",
    "\n",
    "For simplicity, you should assume that (i) the curvature of the Earth does not matter for this problem, so assume that $1^{\\circ}$ of longitude is the same distance regardless of the latitude (but is not\n",
    "equivalent to $1^{\\circ}$ of latitude; (ii) the population of Guatemala is uniformly distributed in each _departamento_; (iii) travel within a _departamento_ is equally costly per unit distance as travel between a market and Guatemala city; (iv) travel time depends only on Euclidean distances (e.g. you can ignore where actual roads are). \n",
    "\n",
    "Because this problem requires that you do a similar calculation 22 times (once for each _departamento_), you should write your code in a such a way that it can eventually be run in a loop that repeats the same calculation for different _departamentos_. However, to avoid trying to debug that large loop, first do the calculations for a single _departamento_ and then generalize the code to run inside a loop. Also, we will write a function to simplify some of the distance calculations, but if you spot other locations where you can write a function that you will call many times, go for it.\n",
    "\n",
    "**2.1.**\n",
    "\n",
    "Start by obtaining the shapefile for Guatemalan departamentos at http://www.diva-gis.org. Because the _departamentos_ are the first administrative unit, their boundaries are contained in the file named `GTM_adm1.shp`. Import the shapefile as a geopandas dataframe (see Lab 4).\n",
    "\n",
    "Unlike the previous boundary file we looked at, this one is slightly more complicated because there are multiple polygons rather than just the single polygon that you looked at before.  In the earlier lab where you plotted a country, there was only one object in that shapefile (the country boundary) so you didn’t worry about the index. The indexing system used by geopandas for these geographic data structures is simple (and very similar to pandas).\n",
    "\n",
    "Let's start by examining the geopandas dataframe we read in above by running ```df```. Each row here represents a different _departamento_. As before, the associated information for each _departamento_ (i.e. their names, abbreviations, etc.) is stored as columns in this dataframe, very similar to pandas. Recall that the main difference is the column in each GeoDataFrame named `'geometry'`, each row of which is a shapely MultiPolygon object.\n",
    "\n",
    "To examine the shapely MultiPolygon object for the polygon stored in the shapefile (the first _departamento_) you would type ```df['geometry'][0]``` (in general, check that df.index is ordered from 0-N for this to work, as df.index may be composed of strings, or not in order, etc. -- to ensure that df.index is ordered from 0-N, you can run ```df.index = range(len(df))```). This is an easy way to visualize one shapely MultiPolygon at a time.\n",
    "\n",
    "But what about visualizing all of the departamentos?\n",
    "\n",
    "**Write code that plots all the departamentos on a single plot. Hint: you may have done this before.**"
   ]
  },
  {
   "cell_type": "code",
   "execution_count": null,
   "metadata": {},
   "outputs": [],
   "source": [
    "# TODO: WRITE YOUR CODES HERE"
   ]
  },
  {
   "cell_type": "markdown",
   "metadata": {},
   "source": [
    "**2.2**\n",
    "\n",
    "For the sake of the optimization problem, break each _departamento_ into $0.1^{\\circ} \\times 0.1^{\\circ}$ squares that we will use as the units of analysis. We'll assume that there is one individual who lives in each square (one could also assume there are N individuals in each square and it wouldn't change the analysis) and that each square is a potential location for a market. In addition, assume that each individual travels to and from the market once per week and that in order to supply that individual with goods, a merchant must travel from the market to Guatemala City and back. In other words, the number of trips from market to Guatemala City and back is equal to the number of individuals in a _departamento_. (For squares that are on the border between two _departamentos_, you may decide how to handle them. You could assume that there is only one half of an individual in that location per _departamento_ or you could just count that square twice, once for each _departamento_ that enters it. You could also assume something else if you think it is appropriate and does not introduce too much error.)\n",
    "\n",
    "Construct a mask for each _departamento_. To make things easy for yourself, the lat-limits and lon-limits that you use when constructing each mask should be same for each _departamento_. So each mask should be of the same size. There are multiple ways to do this - you could store each mask in a three dimensional array or in a geopandas GeoDataFrame.\n",
    "\n",
    "**Check that your masks look right by plotting a single mask and then overlaying the boundary of the corresponding _departamento_ on that plot. Check that at least two of your masks look correct before continuing (turn them both in).**"
   ]
  },
  {
   "cell_type": "code",
   "execution_count": null,
   "metadata": {},
   "outputs": [],
   "source": [
    "# TODO: WRITE YOUR CODES HERE"
   ]
  },
  {
   "cell_type": "markdown",
   "metadata": {},
   "source": [
    "**2.3.**\n",
    "\n",
    "Now we are going to solve the optimal market location for a single _departamento_. We'll then later adjust the code and build it into a loop to repeat the analysis for all of the departamentos. To find the optimal market location, we need to break the problem down into determining which locations are feasible, computing our cost function for each location, then finding the location where the cost function is minimized. Below is a description for one approach to solving this problem, but you __do not__ have to follow it. There are multiple ways to solve this problem and if you would like to try doing it a different way, that is okay. (If you are going to follow the instructions below, I recommend reading through them once completely to make sure you have a sense of the plan – I also recommend mapping out what calculations you are doing on a scrap piece of paper since there will be several moving parts.)\n",
    "\n",
    "- (a) Start by picking a single _departamento_ to work with. For this _departamento_, the market must be located within the _departamento_ (on one of our mask squares that has a value of 1 in the mask, as opposed to 0). Our code will eventually search through all the possible square locations, so we'll want the first thing it does when looking at a location to be to determine if that square is a feasible location for the market. Start by writing a loop that looks at each square in the mask and identifies whether that square is in the _departamento_ using an if statement (see Lab 2). (Hint: Just to make sure this is working the way you think it is, you can have your script plot a point at each square if it thinks it is in the _departamento_, that way you can visually check if you are identifying the correct locations.).\n",
    "\n",
    "- (b) Next, we need to determine what our cost function is given a potential market location. To do this, we'll need to compute the travel distance from each grid inside the _departamento_ to the potential market location, as well as between Guatemala City and the potential market location. This is going to involve a lot of distance calculations, so it would probably be a good idea to write a function that will measure distance the way we want to compute it for this problem. Let's write a function that computes the distance between a single point (the potential market location) and a matrix of locations that is constructed with `np.meshgrid` (see Lab 5). If we do this, we can create a matrix that describes the locations of each grid in our masks (even the ones that are zeros) and we can compute each locations' distance to the potential market with a single command (once we have these distances for all locations in the grid, we can do map algebra with the correct mask to zero-out the locations outside of the _departamento_). You could write this function as\n",
    "\n",
    "```python\n",
    "def dist_matrix(pointX, pointY, matX, matY):\n",
    "    \"\"\"Computes distances between a point and a collection of points.\n",
    "    \n",
    "    Args:\n",
    "        pointX, pointY (float) \n",
    "        matX, matY (numpy.ndarray): should be the same size\n",
    "\n",
    "    Returns:\n",
    "        numpy.ndarray: describes the distance between each grid and a single point\n",
    "    \"\"\"\n",
    "    return np.sqrt((pointX - matX) ** 2 + (pointY - matY) ** 2)\n",
    "```\n",
    "\n",
    "Notice that this function will work to compute the distances for all locations in the grid simultaneously, as well as to compute the distance between the potential market and Guatemala City. Using this `dist_matrix` function, compute and display the cost function for each potential market location inside the loop you wrote for (2.3.a). As hinted before, once you have used `dist_matrix` to compute the distance from each grid in a mask to the potential market, use map algebra to remove the distances that are to grids outside of the _departamento_. To sum up travel costs for each grid in the _departamento_, you can apply sum twice to the masked-out matrix of distances. Be sure to add in the cost of merchants traveling to and from Guatemala City, and be sure that the number of merchants traveling that distance is equal to the number of grids inside the _departamento_. Once you have computed the cost function for a single potential market location, you must store that value somewhere. Make a new matrix of NaNs that is the same size as the mask you are using\n",
    "\n",
    "```python\n",
    "nan_matrix = np.empty((row_size_mask, col_size_mask))\n",
    "nan_matrix[:] = np.nan\n",
    "```\n",
    "\n",
    "and replace entries that correspond with potential market locations with the value of the cost function at that location. Once you have run your loop through all potential locations, computing and recording the cost function at each location, this new matrix can be visualized to display the cost function at each grid in the _departamento_.\n",
    "\n",
    "- (c) Find the location with the minimum value of the cost function (if you used NaNs, make sure to use ```np.nanmin``` or any other function that ignores NaNs).\n",
    "\n",
    "Demonstrate that your code works for a single _departamento_ by visualizing your calculation and result in a single map. Make a heat map of the cost function with the boundary of the _departamento_ overlaid on top. Plot the optimal location of the market for that _departamento_ using a marker. Demonstrate the structure of that the trade network will take if that location is selected by drawing a line from each grid in the departamento to the market (this is the travel distance for each individual in the departamento) and a line from the market to Guatemala City (this is the travel distance for all of the merchants).\n",
    "\n",
    "**Turn in this single plot as your answer to (3), regardless of whether or not you followed the steps above or used a different approach.**"
   ]
  },
  {
   "cell_type": "code",
   "execution_count": null,
   "metadata": {},
   "outputs": [],
   "source": [
    "# TODO: WRITE YOUR CODES HERE"
   ]
  },
  {
   "cell_type": "markdown",
   "metadata": {},
   "source": [
    "**2.4**\n",
    "\n",
    "Now adjust your code so that the calculation you ran for a single _departamento_ is run for all 22 _departamentos_ (you should just add a loop outside of your script, rather than cut-and-pasting your code 21 times). Make sure that you create vectors that will record the location of each market. \n",
    "\n",
    "**Display your results by plotting the location of each market on a single map of the departamento boundaries, along with the trade network for each departamento.**\n",
    "\n",
    "To make your display clear, you will want to adjust the weight of lines in the boundaries or the trade network or make lines of a certain type a distinct color. Optionally, color each grid cell relative to the total cost for that grid cell (cost of commuting from the grid cell to the market and from the market to Guatemala City).\n",
    "\n",
    "**Finally, report the list of coordinates for the 22 optimally-located markets that you are recommending the World Bank builds.**"
   ]
  },
  {
   "cell_type": "code",
   "execution_count": null,
   "metadata": {},
   "outputs": [],
   "source": [
    "# TODO: WRITE YOUR CODES HERE"
   ]
  }
 ],
 "metadata": {
  "kernelspec": {
   "display_name": "Python 3",
   "language": "python",
   "name": "python3"
  },
  "language_info": {
   "codemirror_mode": {
    "name": "ipython",
    "version": 3
   },
   "file_extension": ".py",
   "mimetype": "text/x-python",
   "name": "python",
   "nbconvert_exporter": "python",
   "pygments_lexer": "ipython3",
   "version": "3.7.1"
  }
 },
 "nbformat": 4,
 "nbformat_minor": 2
}
