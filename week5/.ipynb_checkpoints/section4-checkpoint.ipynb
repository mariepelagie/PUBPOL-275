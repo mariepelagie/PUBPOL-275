{
 "cells": [
  {
   "cell_type": "markdown",
   "metadata": {},
   "source": [
    "## Section 4: `rasterio`\n",
    "\n",
    "**Some of the codes here may differ slightly from Lab 5. They should all be functional but we keep updating them to be simpler and more accessible.**\n",
    "\n",
    "\"Reading and writing data files is a spatial data programmer's bread and butter.\" This section explains how to use `rasterio` to read existing GeoTIFF files and performing some useful operations on them. Let's start by importing a bunch of packages."
   ]
  },
  {
   "cell_type": "code",
   "execution_count": 1,
   "metadata": {},
   "outputs": [],
   "source": [
    "import numpy as np\n",
    "import geopandas as gpd\n",
    "import matplotlib.pyplot as plt\n",
    "import rasterio\n",
    "import rasterio.transform\n",
    "import rasterio.mask\n",
    "import rasterio.warp\n",
    "import rasterio.windows\n",
    "\n",
    "from matplotlib.colors import LinearSegmentedColormap"
   ]
  },
  {
   "cell_type": "code",
   "execution_count": 2,
   "metadata": {},
   "outputs": [],
   "source": [
    "%matplotlib inline"
   ]
  },
  {
   "cell_type": "markdown",
   "metadata": {},
   "source": [
    "### What is a GeoTIFF file?\n",
    "\n",
    "Think of a GeoTIFF file as a collection of actual rasters (we will later deal with them as `numpy.ndarray`) and a collection of metadata that contains georeferencing information. The potential metadata information includes map projection, coordinate systems, and everything else necessary to establish the exact spatial reference for the file. Let's load a GeoTIFF.\n",
    "\n",
    "*Introduction of the dataset, taken from Lab 5: This file contains a field describing the estimated distribution of all people on Earth in the year 2000. The data comes from the [Gridded Population of the World data set](https://sedac.ciesin.columbia.edu/data/set/gpw-v4-population-count-rev11) produced by a team at Columbia University. We'll be using the version provided at a 15 arcminute resolution (about 30km). Constructing this data set was a major project and this data set is widely used by researchers around the world. This version of the data set describes the total number of individuals that are estimated to have lived in each grid cell in the year 2000.*"
   ]
  },
  {
   "cell_type": "markdown",
   "metadata": {},
   "source": [
    "### Metadata in `rasterio`"
   ]
  },
  {
   "cell_type": "code",
   "execution_count": 3,
   "metadata": {},
   "outputs": [],
   "source": [
    "dataset = rasterio.open('Lab5_GPW.tif')"
   ]
  },
  {
   "cell_type": "markdown",
   "metadata": {},
   "source": [
    "We want to know how many layers (bands) there are in the file. A band is like a layer, or a channel. An RGB image, for example, has three channels/bands/layers. Each band shares the same georeferencing information with each other."
   ]
  },
  {
   "cell_type": "code",
   "execution_count": 4,
   "metadata": {},
   "outputs": [
    {
     "data": {
      "text/plain": [
       "1"
      ]
     },
     "execution_count": 4,
     "metadata": {},
     "output_type": "execute_result"
    }
   ],
   "source": [
    "dataset.count"
   ]
  },
  {
   "cell_type": "markdown",
   "metadata": {},
   "source": [
    "Or alternatively,"
   ]
  },
  {
   "cell_type": "code",
   "execution_count": 5,
   "metadata": {},
   "outputs": [
    {
     "data": {
      "text/plain": [
       "(1,)"
      ]
     },
     "execution_count": 5,
     "metadata": {},
     "output_type": "execute_result"
    }
   ],
   "source": [
    "dataset.indexes"
   ]
  },
  {
   "cell_type": "markdown",
   "metadata": {},
   "source": [
    "If you see `(1,)` that means that there is only one band in the raster. `rasterio` starts counting from 1."
   ]
  },
  {
   "cell_type": "markdown",
   "metadata": {},
   "source": [
    "We can view the geographic coordinate system by"
   ]
  },
  {
   "cell_type": "code",
   "execution_count": 6,
   "metadata": {},
   "outputs": [
    {
     "data": {
      "text/plain": [
       "CRS.from_epsg(4326)"
      ]
     },
     "execution_count": 6,
     "metadata": {},
     "output_type": "execute_result"
    }
   ],
   "source": [
    "dataset.crs"
   ]
  },
  {
   "cell_type": "markdown",
   "metadata": {},
   "source": [
    "The output is EPSG 4326/WGS84: World Geodetic System 1984, commonly used in GPS. This maps a point on earth to a set of longitude, latitude coordinate (notice that epsg 4326 uses the order [lon, lat]). Next, we can check how many grid cells there are by"
   ]
  },
  {
   "cell_type": "code",
   "execution_count": null,
   "metadata": {},
   "outputs": [],
   "source": [
    "dataset.shape"
   ]
  },
  {
   "cell_type": "code",
   "execution_count": null,
   "metadata": {},
   "outputs": [],
   "source": [
    "# notice the sequence of height and width here!\n",
    "# this is rasterio convention, which can be different from other packages\n",
    "# e.g. some image processing packages\n",
    "dataset.height, dataset.width"
   ]
  },
  {
   "cell_type": "markdown",
   "metadata": {},
   "source": [
    "See the bounds of the GeoTIFF "
   ]
  },
  {
   "cell_type": "code",
   "execution_count": null,
   "metadata": {},
   "outputs": [],
   "source": [
    "dataset.bounds"
   ]
  },
  {
   "cell_type": "code",
   "execution_count": null,
   "metadata": {},
   "outputs": [],
   "source": [
    "# you can of course also view all the metadata\n",
    "dataset.meta"
   ]
  },
  {
   "cell_type": "markdown",
   "metadata": {},
   "source": [
    "`'nodata'` refers to a special value that rasterio uses to store NaN values. `'transform'` refers to six values that rasterio uses to record the scale and the position of the raster. This can be used to convert x, y coordinate (coord in the specified crs, e.g., in lon, lat) to i, j coordinate (row and col number on a raster, coord in image space)."
   ]
  },
  {
   "cell_type": "code",
   "execution_count": null,
   "metadata": {},
   "outputs": [],
   "source": [
    "# this converts x, y to row, col\n",
    "dataset.index(0, 0)"
   ]
  },
  {
   "cell_type": "code",
   "execution_count": null,
   "metadata": {},
   "outputs": [],
   "source": [
    "# this converts row, col to x, y\n",
    "dataset.xy(0, 0)"
   ]
  },
  {
   "cell_type": "markdown",
   "metadata": {},
   "source": [
    "When you `rasterio.open()` something, you are not actually reading the whole raster file. You are only reading the metadata. This is a really nice property because sometimes a geotiff file could be too large to fit into your memory, and rasterio lets you read only parts of that image."
   ]
  },
  {
   "cell_type": "markdown",
   "metadata": {},
   "source": [
    "### Rasters as numpy arrays\n",
    "Enough with the metadata, now we want to actually read the real data."
   ]
  },
  {
   "cell_type": "code",
   "execution_count": null,
   "metadata": {},
   "outputs": [],
   "source": [
    "# read the first dimension of the array (there's only one)\n",
    "band = dataset.read(1)"
   ]
  },
  {
   "cell_type": "markdown",
   "metadata": {},
   "source": [
    "This is now a numpy array that you can operate on. You can do any kind of map algebra as long as it doesn't change the georeferencing."
   ]
  },
  {
   "cell_type": "markdown",
   "metadata": {},
   "source": [
    "### 20-min Exercise: Plot the data with a heat map"
   ]
  },
  {
   "cell_type": "code",
   "execution_count": null,
   "metadata": {},
   "outputs": [],
   "source": [
    "# TODO: WRITE YOUR CODES HERE"
   ]
  },
  {
   "cell_type": "markdown",
   "metadata": {},
   "source": [
    "### 20-min Exercise: Overlay a heat map with a shapefile\n",
    "\n",
    "The shapefile is `MEX_adm0.shp`. Zoom into Mexico in the figure."
   ]
  },
  {
   "cell_type": "code",
   "execution_count": null,
   "metadata": {
    "scrolled": true
   },
   "outputs": [],
   "source": [
    "# TODO: WRITE YOUR CODES HERE"
   ]
  },
  {
   "cell_type": "markdown",
   "metadata": {},
   "source": [
    "### 20-min Exercise: With the `rasterio.mask.mask()` function, clip the raster with the shapefile."
   ]
  },
  {
   "cell_type": "code",
   "execution_count": null,
   "metadata": {
    "scrolled": true
   },
   "outputs": [],
   "source": [
    "# TODO: WRITE YOUR CODES HERE"
   ]
  },
  {
   "cell_type": "markdown",
   "metadata": {},
   "source": [
    "### Reprojection in `rasterio`"
   ]
  },
  {
   "cell_type": "code",
   "execution_count": null,
   "metadata": {},
   "outputs": [],
   "source": [
    "# define color palette\n",
    "nodes = [0, 0.5, 1]  # positions for each color from 0-1\n",
    "color_scheme = ['white', 'yellow', 'red']  # corresponds to nodes\n",
    "custom_cmap = LinearSegmentedColormap.from_list(\n",
    "    'WhiteYellowRed', list(zip(nodes, color_scheme)))\n",
    "custom_cmap.set_under('gray')  # set values under vmin to gray\n",
    "custom_cmap.set_over('red')  # set values over vmax to red"
   ]
  },
  {
   "cell_type": "markdown",
   "metadata": {},
   "source": [
    "Suppose that we want to reproject this raster onto the Pseudo Mercator system - this is super useful as many web apps use this system (e.g., Google Maps). The ID for this coordinate reference system is 3857."
   ]
  },
  {
   "cell_type": "code",
   "execution_count": null,
   "metadata": {},
   "outputs": [],
   "source": [
    "# declares the destination coord system\n",
    "dst_crs = {'init': 'EPSG:3857'}"
   ]
  },
  {
   "cell_type": "markdown",
   "metadata": {},
   "source": [
    "The Pseudo Mercator system only covers 85.06 S to 85.06 N. So we would want to 'subset' our raster `dataset`. Unlike in pandas, etc., this isn't going to be very straightforward."
   ]
  },
  {
   "cell_type": "code",
   "execution_count": null,
   "metadata": {},
   "outputs": [],
   "source": [
    "# since web mercator only covers latitude of -85.06 to 85.06\n",
    "# calculate the height of the subsetted array first\n",
    "height = int(dataset.height * 85 / 90)\n",
    "# subset the source array (read values within 85S to 85N only)\n",
    "src_array = dataset.read(1, window=rasterio.windows.Window(\n",
    "    col_off=0, row_off=int((dataset.height - height) / 2),\n",
    "    width=dataset.width, height=height))\n",
    "# calculate a new `transform` for the original raster\n",
    "# this is an object that keeps track of geocoding information\n",
    "# for the original raster\n",
    "src_transform = rasterio.transform.Affine(\n",
    "    dataset.transform.a, dataset.transform.b,\n",
    "    dataset.transform.c, dataset.transform.d,\n",
    "    dataset.transform.e, 85)"
   ]
  },
  {
   "cell_type": "markdown",
   "metadata": {},
   "source": [
    "Until now we have been 'subsetting' our original raster and extract the part that's in 85S-85N. Apart from subsetting our numpy array, we would also want to update some geo metadata information, which is what we did with `src_transform`. Now let's compute the metadata of the new destination raster."
   ]
  },
  {
   "cell_type": "code",
   "execution_count": null,
   "metadata": {},
   "outputs": [],
   "source": [
    "# this calculates the transform to be applied onto\n",
    "# the original raster\n",
    "dst_transform, dst_width, dst_height = rasterio.warp.calculate_default_transform(\n",
    "    # the coordinate reference system for source raster\n",
    "    src_crs=dataset.crs,\n",
    "    # the coordinate reference system for destination raster\n",
    "    dst_crs=dst_crs,\n",
    "    # width and height for source raster\n",
    "    width=dataset.width,\n",
    "    height=height,\n",
    "    # bounds for source raster\n",
    "    left=-180,\n",
    "    right=180,\n",
    "    top=85,\n",
    "    bottom=-85,\n",
    "    # output raster size\n",
    "    dst_height=256,\n",
    "    dst_width=256\n",
    ")"
   ]
  },
  {
   "cell_type": "markdown",
   "metadata": {},
   "source": [
    "Now we want to reproject the original raster and create a new raster to store the reprojected output - let's call that `dst_array`."
   ]
  },
  {
   "cell_type": "code",
   "execution_count": null,
   "metadata": {},
   "outputs": [],
   "source": [
    "# creates a zero array to store the reprojected raster\n",
    "dst_array = np.zeros((dst_height, dst_width))\n",
    "# reproject the raster array\n",
    "rasterio.warp.reproject(\n",
    "    source=src_array,\n",
    "    destination=dst_array,\n",
    "    src_transform=src_transform,\n",
    "    src_crs=dataset.crs,\n",
    "    dst_transform=dst_transform,\n",
    "    dst_crs=dst_crs,\n",
    "    resampling=rasterio.warp.Resampling.nearest)"
   ]
  },
  {
   "cell_type": "markdown",
   "metadata": {},
   "source": [
    "You'll notice that the reprojected map is a square. This is a very interesting and useful property of the Pseudo Mercator system and is part of the reason why it is popular, especially in web based mapping programs."
   ]
  },
  {
   "cell_type": "code",
   "execution_count": null,
   "metadata": {},
   "outputs": [],
   "source": [
    "plt.imshow(dst_array, cmap=custom_cmap,\n",
    "           vmin=0, vmax=50000)\n",
    "plt.axis('off')\n",
    "plt.colorbar()\n",
    "plt.show()"
   ]
  }
 ],
 "metadata": {
  "kernelspec": {
   "display_name": "Python 3",
   "language": "python",
   "name": "python3"
  },
  "language_info": {
   "codemirror_mode": {
    "name": "ipython",
    "version": 3
   },
   "file_extension": ".py",
   "mimetype": "text/x-python",
   "name": "python",
   "nbconvert_exporter": "python",
   "pygments_lexer": "ipython3",
   "version": "3.7.1"
  }
 },
 "nbformat": 4,
 "nbformat_minor": 2
}
